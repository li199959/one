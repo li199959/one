{
  "nbformat": 4,
  "nbformat_minor": 0,
  "metadata": {
    "colab": {
      "provenance": [],
      "toc_visible": true,
      "authorship_tag": "ABX9TyMwxKv0P7iFqvQaps5n4XI1",
      "include_colab_link": true
    },
    "kernelspec": {
      "name": "python3",
      "display_name": "Python 3"
    },
    "language_info": {
      "name": "python"
    }
  },
  "cells": [
    {
      "cell_type": "markdown",
      "metadata": {
        "id": "view-in-github",
        "colab_type": "text"
      },
      "source": [
        "<a href=\"https://colab.research.google.com/github/li199959/one/blob/main/sentenceBERT-%E4%B8%AD%E6%96%87%E6%A3%80%E7%B4%A2%E6%AF%94%E8%BE%83%E5%A5%BD%E7%9A%84.ipynb\" target=\"_parent\"><img src=\"https://colab.research.google.com/assets/colab-badge.svg\" alt=\"Open In Colab\"/></a>"
      ]
    },
    {
      "cell_type": "code",
      "source": [
        "!pip install rank_bm25"
      ],
      "metadata": {
        "colab": {
          "base_uri": "https://localhost:8080/"
        },
        "id": "hmtbN_Xbo5Ek",
        "outputId": "d2722731-ff4d-44b8-aebf-7347a25cbb85"
      },
      "execution_count": 2,
      "outputs": [
        {
          "output_type": "stream",
          "name": "stdout",
          "text": [
            "Collecting rank_bm25\n",
            "  Downloading rank_bm25-0.2.2-py3-none-any.whl (8.6 kB)\n",
            "Requirement already satisfied: numpy in /usr/local/lib/python3.10/dist-packages (from rank_bm25) (1.22.4)\n",
            "Installing collected packages: rank_bm25\n",
            "Successfully installed rank_bm25-0.2.2\n"
          ]
        }
      ]
    },
    {
      "cell_type": "code",
      "execution_count": 3,
      "metadata": {
        "colab": {
          "base_uri": "https://localhost:8080/"
        },
        "id": "_-fy2GWQo0aU",
        "outputId": "55e59b36-5905-4220-d51c-9c0614319214"
      },
      "outputs": [
        {
          "output_type": "stream",
          "name": "stdout",
          "text": [
            "Score: 1.2202417602405193 \t Document: The car is driven on the road\n",
            "Score: 0.0 \t Document: The train ran through the tunnel\n",
            "Score: 0.17828775739562921 \t Document: The car driver wore a cap in the car\n",
            "Score: 1.348477177426561 \t Document: He drives a train\n",
            "Score: 0.1276433467457809 \t Document: The driver cap is in the car trunk\n"
          ]
        }
      ],
      "source": [
        "from rank_bm25 import BM25Okapi\n",
        "\n",
        "# 假设我们有以下文档集合\n",
        "corpus = [\n",
        "    \"The car is driven on the road\",\n",
        "    \"The train ran through the tunnel\",\n",
        "    \"The car driver wore a cap in the car\",\n",
        "    \"He drives a train\",\n",
        "    \"The driver cap is in the car trunk\"\n",
        "]\n",
        "\n",
        "# 对文档集合进行处理，分词\n",
        "tokenized_corpus = [doc.split(\" \") for doc in corpus]\n",
        "\n",
        "# 创建BM25模型\n",
        "bm25 = BM25Okapi(tokenized_corpus)\n",
        "\n",
        "# 假设我们有一个查询\n",
        "query = \"car drives road\"\n",
        "\n",
        "# 对查询进行处理，分词\n",
        "tokenized_query = query.split(\" \")\n",
        "\n",
        "# 获取查询的BM25得分\n",
        "doc_scores = bm25.get_scores(tokenized_query)\n",
        "\n",
        "# 输出得分\n",
        "for score, doc in zip(doc_scores, corpus):\n",
        "    print(f\"Score: {score} \\t Document: {doc}\")\n"
      ]
    },
    {
      "cell_type": "code",
      "source": [],
      "metadata": {
        "id": "9HvMX7ogydu_"
      },
      "execution_count": null,
      "outputs": []
    },
    {
      "cell_type": "code",
      "source": [],
      "metadata": {
        "id": "8X_XxjC2yeE2"
      },
      "execution_count": null,
      "outputs": []
    },
    {
      "cell_type": "code",
      "source": [],
      "metadata": {
        "id": "ucdfaKnIyipO"
      },
      "execution_count": null,
      "outputs": []
    },
    {
      "cell_type": "code",
      "source": [
        "tokenized_corpus"
      ],
      "metadata": {
        "colab": {
          "base_uri": "https://localhost:8080/"
        },
        "id": "2txqpp62pGmz",
        "outputId": "dc569681-424f-4280-afa1-483bbdde109d"
      },
      "execution_count": 4,
      "outputs": [
        {
          "output_type": "execute_result",
          "data": {
            "text/plain": [
              "[['The', 'car', 'is', 'driven', 'on', 'the', 'road'],\n",
              " ['The', 'train', 'ran', 'through', 'the', 'tunnel'],\n",
              " ['The', 'car', 'driver', 'wore', 'a', 'cap', 'in', 'the', 'car'],\n",
              " ['He', 'drives', 'a', 'train'],\n",
              " ['The', 'driver', 'cap', 'is', 'in', 'the', 'car', 'trunk']]"
            ]
          },
          "metadata": {},
          "execution_count": 4
        }
      ]
    },
    {
      "cell_type": "code",
      "source": [
        "bm25"
      ],
      "metadata": {
        "colab": {
          "base_uri": "https://localhost:8080/"
        },
        "id": "_e670eWGo1c-",
        "outputId": "48dab63e-2776-4e6f-c840-769d7b7ab19f"
      },
      "execution_count": 5,
      "outputs": [
        {
          "output_type": "execute_result",
          "data": {
            "text/plain": [
              "<rank_bm25.BM25Okapi at 0x7ebad3b37fa0>"
            ]
          },
          "metadata": {},
          "execution_count": 5
        }
      ]
    },
    {
      "cell_type": "code",
      "source": [
        "tokenized_query"
      ],
      "metadata": {
        "colab": {
          "base_uri": "https://localhost:8080/"
        },
        "id": "VkrOfBWcpJqI",
        "outputId": "450d4387-9ba5-4e69-ef87-2fc877fed2f8"
      },
      "execution_count": 6,
      "outputs": [
        {
          "output_type": "execute_result",
          "data": {
            "text/plain": [
              "['car', 'drives', 'road']"
            ]
          },
          "metadata": {},
          "execution_count": 6
        }
      ]
    },
    {
      "cell_type": "code",
      "source": [
        "!pip install jieba\n",
        "!pip install rank_bm25\n"
      ],
      "metadata": {
        "colab": {
          "base_uri": "https://localhost:8080/"
        },
        "id": "YzmtxDn3pP9s",
        "outputId": "75a96a4d-8df1-4709-f9f1-b085720432db"
      },
      "execution_count": 8,
      "outputs": [
        {
          "output_type": "stream",
          "name": "stdout",
          "text": [
            "Requirement already satisfied: jieba in /usr/local/lib/python3.10/dist-packages (0.42.1)\n",
            "Requirement already satisfied: rank_bm25 in /usr/local/lib/python3.10/dist-packages (0.2.2)\n",
            "Requirement already satisfied: numpy in /usr/local/lib/python3.10/dist-packages (from rank_bm25) (1.22.4)\n"
          ]
        }
      ]
    },
    {
      "cell_type": "code",
      "source": [],
      "metadata": {
        "id": "2EYpUhdep5E3"
      },
      "execution_count": null,
      "outputs": []
    },
    {
      "cell_type": "code",
      "source": [
        "import jieba\n",
        "from rank_bm25 import BM25Okapi\n",
        "\n",
        "# 假设我们有以下文档集合\n",
        "corpus = [\n",
        "    \"汽车在路上行驶\",\n",
        "    \"火车穿过隧道\",\n",
        "    \"汽车司机在车里戴了帽子\",\n",
        "    \"他驾驶火车\",\n",
        "    \"司机的帽子在汽车后备箱里\"\n",
        "]\n",
        "\n",
        "# 对文档集合进行处理，使用jieba进行分词\n",
        "tokenized_corpus = [list(jieba.cut(doc)) for doc in corpus]\n",
        "\n",
        "# 创建BM25模型\n",
        "bm25 = BM25Okapi(tokenized_corpus)\n",
        "\n",
        "# 假设我们有一个查询\n",
        "query = \"汽车在路上行驶\"\n",
        "\n",
        "# 对查询进行处理，使用jieba进行分词\n",
        "tokenized_query = list(jieba.cut(query))\n",
        "\n",
        "# 获取查询的BM25得分\n",
        "doc_scores = bm25.get_scores(tokenized_query)\n",
        "\n",
        "# 输出得分\n",
        "for score, doc in zip(doc_scores, corpus):\n",
        "    print(f\"Score: {score} \\t Document: {doc}\")\n"
      ],
      "metadata": {
        "colab": {
          "base_uri": "https://localhost:8080/"
        },
        "id": "GRzyrPfYp-A8",
        "outputId": "de4f3472-efcb-435e-ca9e-34898480c6ad"
      },
      "execution_count": 9,
      "outputs": [
        {
          "output_type": "stream",
          "name": "stderr",
          "text": [
            "Building prefix dict from the default dictionary ...\n",
            "DEBUG:jieba:Building prefix dict from the default dictionary ...\n",
            "Dumping model to file cache /tmp/jieba.cache\n",
            "DEBUG:jieba:Dumping model to file cache /tmp/jieba.cache\n",
            "Loading model cost 1.368 seconds.\n",
            "DEBUG:jieba:Loading model cost 1.368 seconds.\n",
            "Prefix dict has been built successfully.\n",
            "DEBUG:jieba:Prefix dict has been built successfully.\n"
          ]
        },
        {
          "output_type": "stream",
          "name": "stdout",
          "text": [
            "Score: 2.8052609007971383 \t Document: 汽车在路上行驶\n",
            "Score: 0.0 \t Document: 火车穿过隧道\n",
            "Score: 0.32965119660197567 \t Document: 汽车司机在车里戴了帽子\n",
            "Score: 0.0 \t Document: 他驾驶火车\n",
            "Score: 0.32965119660197567 \t Document: 司机的帽子在汽车后备箱里\n"
          ]
        }
      ]
    },
    {
      "cell_type": "code",
      "source": [],
      "metadata": {
        "id": "5ZhWTtWvr6Sj"
      },
      "execution_count": null,
      "outputs": []
    },
    {
      "cell_type": "code",
      "source": [
        "tokenized_corpus"
      ],
      "metadata": {
        "colab": {
          "base_uri": "https://localhost:8080/"
        },
        "id": "zbQ5225DqBU0",
        "outputId": "9c05641a-6477-455e-b3c0-3eb293b4e34b"
      },
      "execution_count": 10,
      "outputs": [
        {
          "output_type": "execute_result",
          "data": {
            "text/plain": [
              "[['汽车', '在', '路上', '行驶'],\n",
              " ['火车', '穿过', '隧道'],\n",
              " ['汽车', '司机', '在', '车里', '戴', '了', '帽子'],\n",
              " ['他', '驾驶', '火车'],\n",
              " ['司机', '的', '帽子', '在', '汽车', '后备箱', '里']]"
            ]
          },
          "metadata": {},
          "execution_count": 10
        }
      ]
    },
    {
      "cell_type": "code",
      "source": [
        "\n",
        "# 从txt文件读取文本\n",
        "with open('演示.txt', 'r', encoding='utf-8') as f:\n",
        "    text = f.read()\n",
        "\n",
        "# 按句号分割文本\n",
        "corpus = text.split('。')\n",
        "\n",
        "# 对分割后的句子进行分词\n",
        "tokenized_corpus = [list(jieba.cut(doc)) for doc in corpus]\n",
        "\n",
        "# 创建BM25模型\n",
        "bm25 = BM25Okapi(tokenized_corpus)\n",
        "\n",
        "# 假设我们有一个查询\n",
        "query = \"los告警\"\n",
        "\n",
        "# 对查询进行处理，使用jieba进行分词\n",
        "tokenized_query = list(jieba.cut(query))\n",
        "\n",
        "# 获取查询的BM25得分\n",
        "doc_scores = bm25.get_scores(tokenized_query)\n",
        "\n",
        "# 获取得分最高的前三个句子\n",
        "top_sentences = [sentence for score, sentence in scored_sentences[:3]]\n",
        "\n",
        "# 整合这些句子\n",
        "combined_text = '。'.join(top_sentences)\n",
        "\n",
        "# 打印整合后的文本\n",
        "print(combined_text)\n"
      ],
      "metadata": {
        "colab": {
          "base_uri": "https://localhost:8080/"
        },
        "id": "Lw7GsR1bqPyj",
        "outputId": "d8b3cd73-e9a9-4415-8b5d-5bf842faa24a"
      },
      "execution_count": 19,
      "outputs": [
        {
          "output_type": "stream",
          "name": "stdout",
          "text": [
            "先分析高级别告警，后分析低级别告警\n",
            "在分析告警时，应首先分析高级别的告警，如紧急告警、主要告警；然后再分析低级别的告警，如次要告警和提示告警。\n",
            "1.R_LOS 告警表示接收线路侧信号丢失（Receive loss of signal），为紧急告警， SL16板会上报此告警。正确使用法兰盘和光衰减器后，查看告警是否排除\n"
          ]
        }
      ]
    },
    {
      "cell_type": "code",
      "source": [
        "tokenized_corpus[5]"
      ],
      "metadata": {
        "id": "B5bSsrLn8lZQ"
      },
      "execution_count": null,
      "outputs": []
    },
    {
      "cell_type": "code",
      "source": [
        "top_sentences"
      ],
      "metadata": {
        "colab": {
          "base_uri": "https://localhost:8080/"
        },
        "id": "VY9W922RrNFa",
        "outputId": "9ce6646c-bc4e-40cb-f6a7-b7724b9c474f"
      },
      "execution_count": 20,
      "outputs": [
        {
          "output_type": "execute_result",
          "data": {
            "text/plain": [
              "['先分析高级别告警，后分析低级别告警\\n在分析告警时，应首先分析高级别的告警，如紧急告警、主要告警；然后再分析低级别的告警，如次要告警和提示告警',\n",
              " '\\n1.R_LOS 告警表示接收线路侧信号丢失（Receive loss of signal），为紧急告警， SL16板会上报此告警',\n",
              " '正确使用法兰盘和光衰减器后，查看告警是否排除']"
            ]
          },
          "metadata": {},
          "execution_count": 20
        }
      ]
    },
    {
      "cell_type": "code",
      "source": [
        "doc_scores"
      ],
      "metadata": {
        "colab": {
          "base_uri": "https://localhost:8080/"
        },
        "id": "DaFrZHHSrV6Y",
        "outputId": "4dddbbf3-3496-46dd-f325-0f8229957e98"
      },
      "execution_count": 16,
      "outputs": [
        {
          "output_type": "execute_result",
          "data": {
            "text/plain": [
              "array([0.        , 0.        , 0.        , 0.        , 0.58048708,\n",
              "       0.87827454, 0.70267932, 0.32023061, 0.39566549, 0.27593003,\n",
              "       0.59476136, 0.        ])"
            ]
          },
          "metadata": {},
          "execution_count": 16
        }
      ]
    },
    {
      "cell_type": "code",
      "source": [],
      "metadata": {
        "id": "iZ5wLGRuwmNn"
      },
      "execution_count": null,
      "outputs": []
    }
  ]
}