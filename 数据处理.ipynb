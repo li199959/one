{
  "nbformat": 4,
  "nbformat_minor": 0,
  "metadata": {
    "colab": {
      "provenance": [],
      "authorship_tag": "ABX9TyMJaciHpBS5IwyNwnImnr/Y",
      "include_colab_link": true
    },
    "kernelspec": {
      "name": "python3",
      "display_name": "Python 3"
    },
    "language_info": {
      "name": "python"
    }
  },
  "cells": [
    {
      "cell_type": "markdown",
      "metadata": {
        "id": "view-in-github",
        "colab_type": "text"
      },
      "source": [
        "<a href=\"https://colab.research.google.com/github/li199959/one/blob/main/%E6%95%B0%E6%8D%AE%E5%A4%84%E7%90%86.ipynb\" target=\"_parent\"><img src=\"https://colab.research.google.com/assets/colab-badge.svg\" alt=\"Open In Colab\"/></a>"
      ]
    },
    {
      "cell_type": "code",
      "execution_count": 2,
      "metadata": {
        "colab": {
          "base_uri": "https://localhost:8080/"
        },
        "id": "u3bv63uEt9Pm",
        "outputId": "5bd18ec8-bb4d-4576-8f22-0e8705da5cde"
      },
      "outputs": [
        {
          "output_type": "stream",
          "name": "stdout",
          "text": [
            "Data saved to desired_output_path.csv\n"
          ]
        }
      ],
      "source": [
        "import zipfile\n",
        "import os\n",
        "import csv\n",
        "\n",
        "def extract_matching_data(zip_file_path, output_csv_path):\n",
        "    # Temporarily extract zip file\n",
        "    temp_folder = \"/tmp/RoCE_test_log\"\n",
        "    with zipfile.ZipFile(zip_file_path, \"r\") as zip_ref:\n",
        "        zip_ref.extractall(temp_folder)\n",
        "\n",
        "    # Find all run-a2a.log files\n",
        "    log_files = {}\n",
        "    for root, dirs, files in os.walk(temp_folder):\n",
        "        for file in files:\n",
        "            if file.endswith(\"run-a2a.log\") and not root.startswith(os.path.join(temp_folder, '__MACOSX')):\n",
        "                log_files[os.path.join(root, file)] = True\n",
        "\n",
        "    # Given data to match against\n",
        "    data_to_match = [\n",
        "        \"1073741824      16777216     float    none      -1    23413   45.86   42.99      0    23542   45.61   42.76    N/A\",\n",
        "        \"4294967296      67108864     float    none      -1    93559   45.91   43.04      0    93822   45.78   42.92    N/A\"\n",
        "    ]\n",
        "\n",
        "    # Extract matching lines from log files\n",
        "    extracted_data = []\n",
        "    for log_file in log_files:\n",
        "        with open(log_file, 'r') as file:\n",
        "            lines = file.readlines()\n",
        "            for line in lines:\n",
        "                for data in data_to_match:\n",
        "                    if data.split()[0] in line and data.split()[1] in line:\n",
        "                        extracted_data.append(line.strip())\n",
        "\n",
        "    # Save the extracted data to a CSV file\n",
        "    with open(output_csv_path, \"w\", newline='') as csv_file:\n",
        "        writer = csv.writer(csv_file)\n",
        "        writer.writerow([\"Data\"])  # Header\n",
        "        for row in extracted_data:\n",
        "            writer.writerow([row])\n",
        "\n",
        "    print(f\"Data saved to {output_csv_path}\")\n",
        "\n",
        "# Usage:\n",
        "zip_file_path = \"RoCE_test_log.zip\"\n",
        "output_csv_path = \"desired_output_path.csv\"\n",
        "extract_matching_data(zip_file_path, output_csv_path)\n"
      ]
    },
    {
      "cell_type": "code",
      "source": [],
      "metadata": {
        "id": "bFBQPqIpuJQg"
      },
      "execution_count": null,
      "outputs": []
    }
  ]
}