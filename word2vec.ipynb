{
  "nbformat": 4,
  "nbformat_minor": 0,
  "metadata": {
    "colab": {
      "provenance": [],
      "authorship_tag": "ABX9TyP46zObKDDIKFiKNj493tUy",
      "include_colab_link": true
    },
    "kernelspec": {
      "name": "python3",
      "display_name": "Python 3"
    },
    "language_info": {
      "name": "python"
    }
  },
  "cells": [
    {
      "cell_type": "markdown",
      "metadata": {
        "id": "view-in-github",
        "colab_type": "text"
      },
      "source": [
        "<a href=\"https://colab.research.google.com/github/li199959/one/blob/main/2.ipynb\" target=\"_parent\"><img src=\"https://colab.research.google.com/assets/colab-badge.svg\" alt=\"Open In Colab\"/></a>"
      ]
    },
    {
      "cell_type": "code",
      "execution_count": 1,
      "metadata": {
        "id": "OSMPlqbgw0c5"
      },
      "outputs": [],
      "source": [
        "'''\n",
        "  code by Tae Hwan Jung(Jeff Jung) @graykode, modify by wmathor\n",
        "'''\n",
        "import torch\n",
        "import numpy as np\n",
        "import torch.nn as nn\n",
        "import torch.optim as optimizer\n",
        "import torch.utils.data as Data\n",
        "\n",
        "device = torch.device(\"cuda\" if torch.cuda.is_available() else \"cpu\")\n",
        "dtype = torch.FloatTensor"
      ]
    },
    {
      "cell_type": "code",
      "source": [
        "sentences = [\"jack like dog\", \"jack like cat\", \"jack like animal\",\n",
        "  \"dog cat animal\", \"banana apple cat dog like\", \"dog fish milk like\",\n",
        "  \"dog cat animal like\", \"jack like apple\", \"apple like\", \"jack like banana\",\n",
        "  \"apple banana jack movie book music like\", \"cat dog hate\", \"cat dog like\"]\n",
        "sentence_list = \" \".join(sentences).split() # ['jack', 'like', 'dog']\n",
        "vocab = list(set(sentence_list))\n",
        "word2idx = {w:i for i, w in enumerate(vocab)}\n",
        "vocab_size = len(vocab)"
      ],
      "metadata": {
        "id": "GMP_3x25w3xw"
      },
      "execution_count": 2,
      "outputs": []
    },
    {
      "cell_type": "code",
      "source": [
        "vocab,sentence_list"
      ],
      "metadata": {
        "id": "hudLjNC5w5Zg"
      },
      "execution_count": null,
      "outputs": []
    },
    {
      "cell_type": "code",
      "source": [
        "# model parameters\n",
        "C = 2 # window size\n",
        "batch_size = 8\n",
        "m = 2 # word embedding dim"
      ],
      "metadata": {
        "id": "cSWgmSw8xBJx"
      },
      "execution_count": 5,
      "outputs": []
    },
    {
      "cell_type": "code",
      "source": [
        "skip_grams = []\n",
        "for idx in range(C, len(sentence_list) - C):\n",
        "  center = word2idx[sentence_list[idx]]\n",
        "  context_idx = list(range(idx - C, idx)) + list(range(idx + 1, idx + C + 1))\n",
        "  context = [word2idx[sentence_list[i]] for i in context_idx]\n",
        "\n",
        "  for w in context:\n",
        "    skip_grams.append([center, w])"
      ],
      "metadata": {
        "id": "60KYoy3bxejd"
      },
      "execution_count": 8,
      "outputs": []
    },
    {
      "cell_type": "code",
      "source": [
        "skip_grams"
      ],
      "metadata": {
        "id": "VkLealhpxvel"
      },
      "execution_count": null,
      "outputs": []
    },
    {
      "cell_type": "code",
      "source": [
        "def make_data(skip_grams):\n",
        "  input_data = []\n",
        "  output_data = []\n",
        "  for a, b in skip_grams:\n",
        "    input_data.append(np.eye(vocab_size)[a])\n",
        "    output_data.append(b)\n",
        "  return input_data, output_data"
      ],
      "metadata": {
        "id": "6ry2_hQsx2cs"
      },
      "execution_count": 11,
      "outputs": []
    },
    {
      "cell_type": "code",
      "source": [
        "input_data, output_data = make_data(skip_grams)\n",
        "input_data, output_data = torch.Tensor(input_data), torch.LongTensor(output_data)\n",
        "dataset = Data.TensorDataset(input_data, output_data)\n",
        "loader = Data.DataLoader(dataset, batch_size, True)"
      ],
      "metadata": {
        "id": "7uKbDqNpyUBw"
      },
      "execution_count": 12,
      "outputs": []
    },
    {
      "cell_type": "code",
      "source": [
        "class Word2Vec(nn.Module):\n",
        "  def __init__(self):\n",
        "    super(Word2Vec, self).__init__()\n",
        "    self.W = nn.Parameter(torch.randn(vocab_size, m).type(dtype))\n",
        "    self.V = nn.Parameter(torch.randn(m, vocab_size).type(dtype))\n",
        "\n",
        "  def forward(self, X):\n",
        "    # X : [batch_size, vocab_size]\n",
        "    hidden = torch.mm(X, self.W) # [batch_size, m]\n",
        "    output = torch.mm(hidden, self.V) # [batch_size, vocab_size]\n",
        "    return output"
      ],
      "metadata": {
        "id": "LRreXCr6yWWe"
      },
      "execution_count": 13,
      "outputs": []
    },
    {
      "cell_type": "code",
      "source": [
        "model = Word2Vec().to(device)\n",
        "loss_fn = nn.CrossEntropyLoss().to(device)\n",
        "optim = optimizer.Adam(model.parameters(), lr=1e-3)"
      ],
      "metadata": {
        "id": "WqrdK452yYJK"
      },
      "execution_count": 14,
      "outputs": []
    },
    {
      "cell_type": "code",
      "source": [
        "for epoch in range(2000):\n",
        "  for i, (batch_x, batch_y) in enumerate(loader):\n",
        "    batch_x = batch_x.to(device)\n",
        "    batch_y = batch_y.to(device)\n",
        "    pred = model(batch_x)\n",
        "    loss = loss_fn(pred, batch_y)\n",
        "\n",
        "    if (epoch + 1) % 1000 == 0:\n",
        "      print(epoch + 1, i, loss.item())\n",
        "    \n",
        "    optim.zero_grad()\n",
        "    loss.backward()\n",
        "    optim.step()"
      ],
      "metadata": {
        "colab": {
          "base_uri": "https://localhost:8080/"
        },
        "id": "wKZShYlryZpo",
        "outputId": "8c0c7ab3-7bf3-4c32-8d36-5683243d4bf2"
      },
      "execution_count": 15,
      "outputs": [
        {
          "output_type": "stream",
          "name": "stdout",
          "text": [
            "1000 0 1.8591241836547852\n",
            "1000 1 1.7231096029281616\n",
            "1000 2 1.862649917602539\n",
            "1000 3 2.146965742111206\n",
            "1000 4 2.3394856452941895\n",
            "1000 5 2.3282558917999268\n",
            "1000 6 1.758164644241333\n",
            "1000 7 1.9932892322540283\n",
            "1000 8 2.1684348583221436\n",
            "1000 9 1.995636224746704\n",
            "1000 10 2.2092084884643555\n",
            "1000 11 1.8849002122879028\n",
            "1000 12 2.5148348808288574\n",
            "1000 13 2.021155834197998\n",
            "1000 14 1.9384682178497314\n",
            "1000 15 2.089881181716919\n",
            "1000 16 2.045048952102661\n",
            "1000 17 2.6188395023345947\n",
            "1000 18 2.068634033203125\n",
            "1000 19 2.1641101837158203\n",
            "1000 20 2.5457701683044434\n",
            "2000 0 2.2586536407470703\n",
            "2000 1 2.530390977859497\n",
            "2000 2 1.9795496463775635\n",
            "2000 3 2.0344669818878174\n",
            "2000 4 2.473395824432373\n",
            "2000 5 2.225813627243042\n",
            "2000 6 1.8515417575836182\n",
            "2000 7 2.096681833267212\n",
            "2000 8 2.4004125595092773\n",
            "2000 9 1.8614320755004883\n",
            "2000 10 1.9356491565704346\n",
            "2000 11 1.73200261592865\n",
            "2000 12 1.9844484329223633\n",
            "2000 13 2.1806440353393555\n",
            "2000 14 2.2129507064819336\n",
            "2000 15 2.0590529441833496\n",
            "2000 16 2.1668570041656494\n",
            "2000 17 1.8221960067749023\n",
            "2000 18 2.0160765647888184\n",
            "2000 19 2.248684883117676\n",
            "2000 20 1.632483959197998\n"
          ]
        }
      ]
    },
    {
      "cell_type": "code",
      "source": [
        "import matplotlib.pyplot as plt\n",
        "for i, label in enumerate(vocab):\n",
        "  W, WT = model.parameters()\n",
        "  x,y = float(W[i][0]), float(W[i][1])\n",
        "  plt.scatter(x, y)\n",
        "  plt.annotate(label, xy=(x, y), xytext=(5, 2), textcoords='offset points', ha='right', va='bottom')\n",
        "plt.show()"
      ],
      "metadata": {
        "colab": {
          "base_uri": "https://localhost:8080/",
          "height": 267
        },
        "id": "gfFeDMSIycJU",
        "outputId": "20c36ade-753e-4091-a634-b1b17de2720e"
      },
      "execution_count": 16,
      "outputs": [
        {
          "output_type": "display_data",
          "data": {
            "text/plain": [
              "<Figure size 432x288 with 1 Axes>"
            ],
            "image/png": "[encoded data removed]"
          },
          "metadata": {
            "needs_background": "light"
          }
        }
      ]
    },
    {
      "cell_type": "code",
      "source": [],
      "metadata": {
        "id": "cuzDmiaVywpX"
      },
      "execution_count": null,
      "outputs": []
    }
  ]
}
