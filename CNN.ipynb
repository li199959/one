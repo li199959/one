{
  "nbformat": 4,
  "nbformat_minor": 0,
  "metadata": {
    "colab": {
      "provenance": [],
      "authorship_tag": "ABX9TyOfP16bkBJCOwoHPLMr2o2m",
      "include_colab_link": true
    },
    "kernelspec": {
      "name": "python3",
      "display_name": "Python 3"
    },
    "language_info": {
      "name": "python"
    }
  },
  "cells": [
    {
      "cell_type": "markdown",
      "metadata": {
        "id": "view-in-github",
        "colab_type": "text"
      },
      "source": [
        "<a href=\"https://colab.research.google.com/github/li199959/one/blob/main/CNN.ipynb\" target=\"_parent\"><img src=\"https://colab.research.google.com/assets/colab-badge.svg\" alt=\"Open In Colab\"/></a>"
      ]
    },
    {
      "cell_type": "code",
      "source": [
        "import torch\n",
        "from torchvision import transforms\n",
        "from torchvision import datasets\n",
        "from torch.utils.data import DataLoader\n",
        "import torch.nn.functional as F\n",
        "import torch.optim as optim\n",
        "import matplotlib.pyplot as plt\n",
        "\n",
        "# 1、准备数据集\n",
        "batch_size = 64\n",
        "transform = transforms.Compose([\n",
        "    transforms.ToTensor(),\n",
        "    transforms.Normalize((0.1307, ), (0.3081, ))\n",
        "])\n",
        "\n",
        "train_dataset = datasets.MNIST(root='dataset/mnist',\n",
        "                               train=True,\n",
        "                               download=True,\n",
        "                               transform=transform)\n",
        "train_loader = DataLoader(dataset=train_dataset,\n",
        "                          batch_size=batch_size,\n",
        "                          shuffle=True)\n",
        "\n",
        "test_dataset = datasets.MNIST(root='dataset/mnist',\n",
        "                              train=False,\n",
        "                              download=True,\n",
        "                              transform=transform)\n",
        "test_loader = DataLoader(dataset=test_dataset,\n",
        "                         batch_size=batch_size,\n",
        "                         shuffle=False)\n",
        "\n",
        "# 2、建立模型\n",
        "class Net(torch.nn.Module):\n",
        "    def __init__(self):\n",
        "        super(Net, self).__init__()\n",
        "        self.conv1 = torch.nn.Conv2d(1, 10, kernel_size=5)\n",
        "        self.conv2 = torch.nn.Conv2d(10, 20, kernel_size=5)\n",
        "        self.pooling = torch.nn.MaxPool2d(2)\n",
        "        self.fc = torch.nn.Linear(320, 10)\n",
        "\n",
        "    def forward(self, x):\n",
        "        batch_size = x.size(0) # x的第0维就是batch_size\n",
        "        x = F.relu(self.pooling(self.conv1(x))) # 修正与池化顺序反了但是不影响\n",
        "        x = F.relu(self.pooling(self.conv2(x)))\n",
        "        x = x.view(batch_size, -1)\n",
        "        x = self.fc(x)\n",
        "        return x\n",
        "\n",
        "\n",
        "model = Net()\n",
        "# 将模型迁移到GPU上运行，cuda:0表示第0块显卡\n",
        "device = torch.device(\"cuda:0\" if torch.cuda.is_available() else \"cpu\")\n",
        "# print(torch.cuda.is_available())\n",
        "model.to(device)\n",
        "\n",
        "# 3、建立损失函数和优化器\n",
        "criterion = torch.nn.CrossEntropyLoss()\n",
        "optimizer = optim.SGD(model.parameters(), lr=0.01, momentum=0.5)\n",
        "\n",
        "\n",
        "# 4、定义训练函数\n",
        "def train(epoch):\n",
        "    running_loss = 0\n",
        "    for batch_idx, data in enumerate(train_loader, 0):\n",
        "        inputs, target = data\n",
        "        # 将要计算的张量也迁移到GPU上——输入和输出\n",
        "        inputs, target = inputs.to(device), target.to(device)\n",
        "        optimizer.zero_grad()\n",
        "\n",
        "        # 前馈 反馈 更新\n",
        "        outputs = model(inputs)\n",
        "        loss = criterion(outputs, target)\n",
        "        loss.backward()\n",
        "        optimizer.step()\n",
        "\n",
        "        running_loss += loss.item()\n",
        "        if batch_idx % 300 == 299:\n",
        "            print('[%d, %5d] loss: %.3f' % (epoch + 1, batch_idx + 1, running_loss / 300))\n",
        "            running_loss = 0\n",
        "\n",
        "# 5、定义测试函数\n",
        "accuracy = []\n",
        "def test():\n",
        "    correct = 0\n",
        "    total = 0\n",
        "    with torch.no_grad():\n",
        "        for data in test_loader:\n",
        "            images, labels = data\n",
        "            # 测试中的张量也迁移到GPU上\n",
        "            images, labels = images.to(device), labels.to(device)\n",
        "            outputs = model(images)\n",
        "            _, predicted = torch.max(outputs.data, dim=1)\n",
        "            total += labels.size(0)\n",
        "            # 两个张量比较，得出的是其中相等的元素的个数（即一个批次中预测正确的个数）\n",
        "            correct += (predicted == labels).sum().item()\n",
        "    print('Accuracy on test  set: %d %%' % (100 * correct / total))\n",
        "    accuracy.append(100 * correct / total)\n",
        "\n",
        "\n",
        "if __name__ == '__main__':\n",
        "    for epoch in range(10):\n",
        "        train(epoch)\n",
        "        test()\n",
        "    print(accuracy)\n",
        "    plt.plot(range(10), accuracy)\n",
        "    plt.xlabel(\"epoch\")\n",
        "    plt.ylabel(\"Accuracy\")\n",
        "    plt.show()\n"
      ],
      "metadata": {
        "colab": {
          "base_uri": "https://localhost:8080/",
          "height": 990
        },
        "id": "X6qwat2M7v7c",
        "outputId": "487c7429-5b64-40b7-ba85-098f36e2119b"
      },
      "execution_count": 9,
      "outputs": [
        {
          "output_type": "stream",
          "name": "stdout",
          "text": [
            "[1,   300] loss: 0.661\n",
            "[1,   600] loss: 0.210\n",
            "[1,   900] loss: 0.156\n",
            "Accuracy on test  set: 96 %\n",
            "[2,   300] loss: 0.117\n",
            "[2,   600] loss: 0.108\n",
            "[2,   900] loss: 0.100\n",
            "Accuracy on test  set: 97 %\n",
            "[3,   300] loss: 0.082\n",
            "[3,   600] loss: 0.081\n",
            "[3,   900] loss: 0.075\n",
            "Accuracy on test  set: 97 %\n",
            "[4,   300] loss: 0.066\n",
            "[4,   600] loss: 0.068\n",
            "[4,   900] loss: 0.065\n",
            "Accuracy on test  set: 98 %\n",
            "[5,   300] loss: 0.056\n",
            "[5,   600] loss: 0.060\n",
            "[5,   900] loss: 0.059\n",
            "Accuracy on test  set: 98 %\n",
            "[6,   300] loss: 0.053\n",
            "[6,   600] loss: 0.052\n",
            "[6,   900] loss: 0.053\n",
            "Accuracy on test  set: 98 %\n",
            "[7,   300] loss: 0.047\n",
            "[7,   600] loss: 0.047\n",
            "[7,   900] loss: 0.051\n",
            "Accuracy on test  set: 98 %\n",
            "[8,   300] loss: 0.042\n",
            "[8,   600] loss: 0.050\n",
            "[8,   900] loss: 0.040\n",
            "Accuracy on test  set: 98 %\n",
            "[9,   300] loss: 0.045\n",
            "[9,   600] loss: 0.042\n",
            "[9,   900] loss: 0.037\n",
            "Accuracy on test  set: 98 %\n",
            "[10,   300] loss: 0.040\n",
            "[10,   600] loss: 0.034\n",
            "[10,   900] loss: 0.041\n",
            "Accuracy on test  set: 98 %\n",
            "[96.45, 97.51, 97.69, 98.27, 98.25, 98.58, 98.3, 98.43, 98.75, 98.64]\n"
          ]
        },
        {
          "output_type": "display_data",
          "data": {
            "text/plain": [
              "<Figure size 432x288 with 1 Axes>"
            ],
            "image/png": "[encoded data removed]"
          },
          "metadata": {
            "needs_background": "light"
          }
        }
      ]
    },
    {
      "cell_type": "code",
      "source": [],
      "metadata": {
        "id": "i6DbqAQN8Sgh"
      },
      "execution_count": null,
      "outputs": []
    }
  ]
}