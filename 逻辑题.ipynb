{
  "nbformat": 4,
  "nbformat_minor": 0,
  "metadata": {
    "colab": {
      "provenance": [],
      "authorship_tag": "ABX9TyPizHNmp/z1GAMtosLMyLXj",
      "include_colab_link": true
    },
    "kernelspec": {
      "name": "python3",
      "display_name": "Python 3"
    },
    "language_info": {
      "name": "python"
    }
  },
  "cells": [
    {
      "cell_type": "markdown",
      "metadata": {
        "id": "view-in-github",
        "colab_type": "text"
      },
      "source": [
        "<a href=\"https://colab.research.google.com/github/li199959/one/blob/main/%E9%80%BB%E8%BE%91%E9%A2%98.ipynb\" target=\"_parent\"><img src=\"https://colab.research.google.com/assets/colab-badge.svg\" alt=\"Open In Colab\"/></a>"
      ]
    },
    {
      "cell_type": "code",
      "execution_count": null,
      "metadata": {
        "id": "3H3rJ1RbCmq1"
      },
      "outputs": [],
      "source": [
        "import pandas as pd\n",
        "\n",
        "# 假设你已经加载了Excel文件到DataFrame\n",
        "file_path = '你的文件路径.xlsx'\n",
        "data = pd.read_excel(file_path)\n",
        "\n",
        "# 定义一个函数来提取\"### Response:\"后的内容\n",
        "def extract_response(text):\n",
        "    parts = text.split('### Response:')\n",
        "    return parts[1].strip() if len(parts) > 1 else \"\"\n",
        "\n",
        "# 应用这个函数到DataFrame的指定列\n",
        "data['Response'] = data.iloc[:, 1].apply(extract_response)\n",
        "\n",
        "# 保存更新后的DataFrame到新的Excel文件\n",
        "output_path = '更新后的文件路径.xlsx'\n",
        "data.to_excel(output_path, index=False)\n"
      ]
    },
    {
      "cell_type": "code",
      "source": [
        "# 定义数组\n",
        "array1 = ['王', '丁', '刘', '李']\n",
        "array2 = ['中', '青']\n",
        "array3 = ['男', '女']\n",
        "array4 = ['a', 'b', 'c']\n",
        "\n",
        "# 定义给定的五个数组\n",
        "arrays = [\n",
        "    ['王', '中', '女', 'a'],\n",
        "    ['丁', '中', '男', 'b'],\n",
        "    ['刘', '青', '男', 'c'],\n",
        "    ['李', '青', '男', 'b'],\n",
        "    ['王', '老', '男', 'c']\n",
        "]\n",
        "\n",
        "# 检查每个组合是否满足条件\n",
        "for element1 in array1:\n",
        "    for element2 in array2:\n",
        "        for element3 in array3:\n",
        "            for element4 in array4:\n",
        "                # 创建新的数组\n",
        "                new_array = [element1, element2, element3, element4]\n",
        "                # 检查是否与所有给定数组都有共同元素\n",
        "                if all(any(new_element in array for new_element in new_array) for array in arrays):\n",
        "                    print(f\"满足条件的数组是：{new_array}\")"
      ],
      "metadata": {
        "colab": {
          "base_uri": "https://localhost:8080/"
        },
        "id": "_fpwetxOYT37",
        "outputId": "12f512e8-9e6f-4227-aa61-85234d226ec3"
      },
      "execution_count": 1,
      "outputs": [
        {
          "output_type": "stream",
          "name": "stdout",
          "text": [
            "满足条件的数组是：['王', '中', '男', 'a']\n",
            "满足条件的数组是：['王', '中', '男', 'b']\n",
            "满足条件的数组是：['王', '中', '男', 'c']\n",
            "满足条件的数组是：['王', '青', '男', 'a']\n",
            "满足条件的数组是：['王', '青', '男', 'b']\n",
            "满足条件的数组是：['王', '青', '男', 'c']\n",
            "满足条件的数组是：['王', '青', '女', 'b']\n",
            "满足条件的数组是：['丁', '中', '男', 'a']\n",
            "满足条件的数组是：['丁', '中', '男', 'b']\n",
            "满足条件的数组是：['丁', '中', '男', 'c']\n",
            "满足条件的数组是：['丁', '青', '男', 'a']\n",
            "满足条件的数组是：['丁', '青', '女', 'c']\n",
            "满足条件的数组是：['刘', '中', '男', 'a']\n",
            "满足条件的数组是：['刘', '中', '男', 'b']\n",
            "满足条件的数组是：['刘', '中', '男', 'c']\n",
            "满足条件的数组是：['刘', '青', '男', 'a']\n",
            "满足条件的数组是：['李', '中', '男', 'a']\n",
            "满足条件的数组是：['李', '中', '男', 'b']\n",
            "满足条件的数组是：['李', '中', '男', 'c']\n",
            "满足条件的数组是：['李', '中', '女', 'c']\n",
            "满足条件的数组是：['李', '青', '男', 'a']\n"
          ]
        }
      ]
    },
    {
      "cell_type": "code",
      "source": [
        "from itertools import product\n",
        "\n",
        "# 定义四个输入数组\n",
        "names = ['王', '丁', '刘', '李']\n",
        "colors = ['中', '青']\n",
        "genders = ['男', '女']\n",
        "letters = ['a', 'b', 'c']\n",
        "\n",
        "# 定义需要匹配的五个数组\n",
        "target_arrays = [\n",
        "    ['王', '中', '女', 'a'],\n",
        "    ['丁', '中', '男', 'b'],\n",
        "    ['刘', '青', '男', 'c'],\n",
        "    ['李', '青', '男', 'b'],\n",
        "    ['王', '老', '男', 'c']\n",
        "]\n",
        "\n",
        "# 生成所有可能的组合\n",
        "all_combinations = product(names, colors, genders, letters)\n",
        "\n",
        "# 找到所有满足条件的组合\n",
        "valid_combinations = []\n",
        "for combo in all_combinations:\n",
        "    if all(any(item in combo for item in target) for target in target_arrays):\n",
        "        valid_combinations.append(combo)\n",
        "\n",
        "valid_combinations\n"
      ],
      "metadata": {
        "colab": {
          "base_uri": "https://localhost:8080/"
        },
        "id": "bfq52JsaYUap",
        "outputId": "63a4f4e9-077d-45aa-9e5d-e5a08332adb8"
      },
      "execution_count": 2,
      "outputs": [
        {
          "output_type": "execute_result",
          "data": {
            "text/plain": [
              "[('王', '中', '男', 'a'),\n",
              " ('王', '中', '男', 'b'),\n",
              " ('王', '中', '男', 'c'),\n",
              " ('王', '青', '男', 'a'),\n",
              " ('王', '青', '男', 'b'),\n",
              " ('王', '青', '男', 'c'),\n",
              " ('王', '青', '女', 'b'),\n",
              " ('丁', '中', '男', 'a'),\n",
              " ('丁', '中', '男', 'b'),\n",
              " ('丁', '中', '男', 'c'),\n",
              " ('丁', '青', '男', 'a'),\n",
              " ('丁', '青', '女', 'c'),\n",
              " ('刘', '中', '男', 'a'),\n",
              " ('刘', '中', '男', 'b'),\n",
              " ('刘', '中', '男', 'c'),\n",
              " ('刘', '青', '男', 'a'),\n",
              " ('李', '中', '男', 'a'),\n",
              " ('李', '中', '男', 'b'),\n",
              " ('李', '中', '男', 'c'),\n",
              " ('李', '中', '女', 'c'),\n",
              " ('李', '青', '男', 'a')]"
            ]
          },
          "metadata": {},
          "execution_count": 2
        }
      ]
    },
    {
      "cell_type": "code",
      "source": [
        "from itertools import product\n",
        "\n",
        "# 定义输入数组\n",
        "names = ['王', '丁', '刘', '李']\n",
        "colors = ['中', '青', '老']\n",
        "genders = ['男', '女']\n",
        "letters = ['a', 'b', 'c']\n",
        "\n",
        "# 定义目标数组\n",
        "target_arrays = [\n",
        "    ['王', '中', '女', 'a'],\n",
        "    ['丁', '中', '男', 'b'],\n",
        "    ['刘', '青', '男', 'c'],\n",
        "    ['李', '青', '男', 'b'],\n",
        "    ['王', '老', '男', 'c']\n",
        "]\n",
        "\n",
        "# 生成所有可能的组合\n",
        "all_combinations = product(names, colors, genders, letters)\n",
        "\n",
        "# 检查组合是否与每个目标数组恰好有一个共同元素\n",
        "valid_combinations = []\n",
        "for combo in all_combinations:\n",
        "    if all(sum(item in combo for item in target) == 1 for target in target_arrays):\n",
        "        valid_combinations.append(combo)\n",
        "\n",
        "valid_combinations\n"
      ],
      "metadata": {
        "colab": {
          "base_uri": "https://localhost:8080/"
        },
        "id": "DQNAuLVPZFrM",
        "outputId": "5019ac45-f4ae-4af4-d396-b07998107092"
      },
      "execution_count": 3,
      "outputs": [
        {
          "output_type": "execute_result",
          "data": {
            "text/plain": [
              "[('刘', '老', '女', 'b')]"
            ]
          },
          "metadata": {},
          "execution_count": 3
        }
      ]
    },
    {
      "cell_type": "code",
      "source": [],
      "metadata": {
        "id": "r2JBvfrubKv7"
      },
      "execution_count": null,
      "outputs": []
    }
  ]
}