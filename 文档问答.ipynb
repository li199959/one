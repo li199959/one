{
  "nbformat": 4,
  "nbformat_minor": 0,
  "metadata": {
    "colab": {
      "provenance": [],
      "gpuType": "T4",
      "authorship_tag": "ABX9TyMMl/WPbqPybKHs3i9vxvVH",
      "include_colab_link": true
    },
    "kernelspec": {
      "name": "python3",
      "display_name": "Python 3"
    },
    "language_info": {
      "name": "python"
    },
    "accelerator": "GPU"
  },
  "cells": [
    {
      "cell_type": "markdown",
      "metadata": {
        "id": "view-in-github",
        "colab_type": "text"
      },
      "source": [
        "<a href=\"https://colab.research.google.com/github/li199959/one/blob/main/%E6%96%87%E6%A1%A3%E9%97%AE%E7%AD%94.ipynb\" target=\"_parent\"><img src=\"https://colab.research.google.com/assets/colab-badge.svg\" alt=\"Open In Colab\"/></a>"
      ]
    },
    {
      "cell_type": "code",
      "execution_count": 1,
      "metadata": {
        "colab": {
          "base_uri": "https://localhost:8080/"
        },
        "id": "6KveWE6tUrZ8",
        "outputId": "162b3379-3b6a-4a31-a28c-7507195b3761"
      },
      "outputs": [
        {
          "output_type": "stream",
          "name": "stdout",
          "text": [
            "Installing collected packages: tokenizers, sentencepiece, safetensors, huggingface-hub, transformers, openai, sentence_transformers\n",
            "Successfully installed huggingface-hub-0.16.4 openai-0.27.8 safetensors-0.3.1 sentence_transformers-2.2.2 sentencepiece-0.1.99 tokenizers-0.13.3 transformers-4.30.2\n"
          ]
        }
      ],
      "source": [
        "!pip install transformers sentence_transformers numpy openai\n"
      ]
    },
    {
      "cell_type": "code",
      "source": [
        "import numpy as np\n",
        "from sentence_transformers import SentenceTransformer\n",
        "from sklearn.metrics.pairwise import cosine_similarity\n",
        "import openai"
      ],
      "metadata": {
        "id": "0wriRzHqU2Vc"
      },
      "execution_count": 3,
      "outputs": []
    },
    {
      "cell_type": "code",
      "source": [
        "model = SentenceTransformer('all-MiniLM-L6-v2')  # 指定一个句子转换器模型，你可以选择其他模型\n"
      ],
      "metadata": {
        "id": "91cxQfx-U_ox"
      },
      "execution_count": null,
      "outputs": []
    },
    {
      "cell_type": "code",
      "source": [
        "# 文档预处理并生成嵌入\n",
        "document = \"BERT模型（Bidirectional Encoder Representations from Transformers）是一种基于Transformer的深度学习模型，被广泛应用于自然语言处理任务中，如情感分析、命名实体识别、文本分类等。将BERT模型与OTN告警文本结合起来，可以从各种角度提出创新点：1. **告警信息分类**: 使用BERT模型进行文本分类，可以把各种不同的OTN告警信息分类到预定义的类别中，如“信号丢失”，“信号降级”等。这样就能更加准确地识别出网络中的特定问题，从而更快地进行修复。2. **告警关联性分析**: 可以通过训练BERT模型，根据告警信息的上下文关系，识别出可能的告警关联性，这可以帮助我们更好地理解故障的起因和可能的影响。3. **故障预测**: 根据历史的告警信息，我们可以训练BERT模型来预测未来可能发生的故障。这种预测可以帮助我们预防潜在的问题，避免网络中断。4. **自动化故障定位和修复**: BERT模型还可以用来理解告警信息的含义，这样可以自动地推断出故障的可能位置和修复方法，进一步提高网络维护的效率。\"\n",
        "sentences = document.split(\"。\")  # 这只是一个简单的句子分割器，你可能需要一个更复杂的分割器\n",
        "sentence_embeddings = model.encode(sentences)"
      ],
      "metadata": {
        "id": "6qzIUYX5VVH8"
      },
      "execution_count": 10,
      "outputs": []
    },
    {
      "cell_type": "code",
      "source": [
        "sentences"
      ],
      "metadata": {
        "colab": {
          "base_uri": "https://localhost:8080/"
        },
        "id": "6ujXwhWpWN5o",
        "outputId": "71f65a03-a436-44be-b845-ca4d67f6e095"
      },
      "execution_count": 11,
      "outputs": [
        {
          "output_type": "execute_result",
          "data": {
            "text/plain": [
              "['BERT模型（Bidirectional Encoder Representations from Transformers）是一种基于Transformer的深度学习模型，被广泛应用于自然语言处理任务中，如情感分析、命名实体识别、文本分类等',\n",
              " '将BERT模型与OTN告警文本结合起来，可以从各种角度提出创新点：1. **告警信息分类**: 使用BERT模型进行文本分类，可以把各种不同的OTN告警信息分类到预定义的类别中，如“信号丢失”，“信号降级”等',\n",
              " '这样就能更加准确地识别出网络中的特定问题，从而更快地进行修复',\n",
              " '2. **告警关联性分析**: 可以通过训练BERT模型，根据告警信息的上下文关系，识别出可能的告警关联性，这可以帮助我们更好地理解故障的起因和可能的影响',\n",
              " '3. **故障预测**: 根据历史的告警信息，我们可以训练BERT模型来预测未来可能发生的故障',\n",
              " '这种预测可以帮助我们预防潜在的问题，避免网络中断',\n",
              " '4. **自动化故障定位和修复**: BERT模型还可以用来理解告警信息的含义，这样可以自动地推断出故障的可能位置和修复方法，进一步提高网络维护的效率',\n",
              " '']"
            ]
          },
          "metadata": {},
          "execution_count": 11
        }
      ]
    },
    {
      "cell_type": "code",
      "source": [
        "sentence_embeddings.shape"
      ],
      "metadata": {
        "colab": {
          "base_uri": "https://localhost:8080/"
        },
        "id": "wDVgdVyIVpm1",
        "outputId": "faff2241-b730-4e5e-9dc6-f43c3da08f08"
      },
      "execution_count": 8,
      "outputs": [
        {
          "output_type": "execute_result",
          "data": {
            "text/plain": [
              "(5, 384)"
            ]
          },
          "metadata": {},
          "execution_count": 8
        }
      ]
    },
    {
      "cell_type": "code",
      "source": [
        "!pip install nltk\n"
      ],
      "metadata": {
        "id": "p904ULUTXXQf"
      },
      "execution_count": null,
      "outputs": []
    },
    {
      "cell_type": "code",
      "source": [
        "import nltk\n",
        "nltk.download('punkt')\n",
        "from nltk.tokenize import sent_tokenize\n",
        "\n",
        "# 文档预处理并生成嵌入\n",
        "document = \"你的文档内容……\"\n",
        "sentences = sent_tokenize(document)  # 使用nltk的sent_tokenize分割句子\n",
        "sentence_embeddings = model.encode(sentences)\n"
      ],
      "metadata": {
        "colab": {
          "base_uri": "https://localhost:8080/"
        },
        "id": "4NRD1qAlWCSH",
        "outputId": "e0076a40-5019-4727-ae48-96200f32aee7"
      },
      "execution_count": 13,
      "outputs": [
        {
          "output_type": "stream",
          "name": "stderr",
          "text": [
            "[nltk_data] Downloading package punkt to /root/nltk_data...\n",
            "[nltk_data]   Unzipping tokenizers/punkt.zip.\n"
          ]
        }
      ]
    },
    {
      "cell_type": "code",
      "source": [
        "with open('演示.txt', 'r', encoding='utf-8') as file:\n",
        "    document = file.read()"
      ],
      "metadata": {
        "id": "FSACSmGOXno0"
      },
      "execution_count": 15,
      "outputs": []
    },
    {
      "cell_type": "code",
      "source": [
        "sentences = sent_tokenize(document)  # 使用nltk的sent_tokenize分割句子\n"
      ],
      "metadata": {
        "id": "t5euofJ6XhXt"
      },
      "execution_count": 56,
      "outputs": []
    },
    {
      "cell_type": "code",
      "source": [
        "sentences"
      ],
      "metadata": {
        "colab": {
          "base_uri": "https://localhost:8080/"
        },
        "id": "DAKgeFujYkKl",
        "outputId": "3d2717d1-804d-4cab-aa99-0036fd83df85"
      },
      "execution_count": 59,
      "outputs": [
        {
          "output_type": "execute_result",
          "data": {
            "text/plain": [
              "['故障定位关键是：将故障点准确地定位到单站。\\n故障定位的一般原则可总结为四句话：先外部，后传输；先网络，后网元；先高速，后低速；先高级，后低级。\\n故障定位的一般原则可总结如下：先定位外部，后定位传输在定位故障时，应先排除外部的可能因素，如光纤断，对接设备故障或电源问题等。先定位网络，后定位网元在定位故障时，首先要尽可能准确定位出是哪个站的问题。先高速部分，后低速部分\\n从告警信号流中可以看出，高速信号的告警常常会引起低速信号的告警；因此在故障定位时，应先排除高速部分的故障。先分析高级别告警，后分析低级别告警\\n在分析告警时，应首先分析高级别的告警，如紧急告警、主要告警；然后再分析低级别的告警，如次要告警和提示告警。\\n1.R_LOS 告警表示接收线路侧信号丢失（Receive loss of signal），为紧急告警， SL16板会上报此告警。\\n产生R_LOS告警原因可能有下面五种:\\n1)断纤；\\n2)线路衰耗过大；\\n3)本板接收方向故障；\\n4)对端站发送部分故障，线路发送失效；\\n5)对端站交叉时钟板故障或不在位。\\n对于R_LOS告警处理步骤分下面五步：\\n1)如果相邻两端的线路板同时告R-LOS,用网管查询发射光功率正常，则应该为光缆故障。  \\n2)检查对端光板发射功率是否正常，如果不正常，更换线路板\\n3)清洁本站尾纤接头和线路板接收光口，查看告警是否排除\\n4)用光功率计检查本站光接收是否正常，如果正常，更换线路板\\n5)检查本站的法兰盘和光衰减器是否连接正确，光衰减器的衰减值是否过大。正确使用法兰盘和光衰减器后，查看告警是否排除。']"
            ]
          },
          "metadata": {},
          "execution_count": 59
        }
      ]
    },
    {
      "cell_type": "code",
      "source": [
        "\n",
        "def split_into_segments(sentences, max_segment_length=100):\n",
        "    current_segment = \"\"\n",
        "    segments = []\n",
        "    for sentence in sentences:\n",
        "        # If adding the next sentence doesn't exceed the limit, add the sentence to the segment\n",
        "        if len(current_segment) + len(sentence) + 1 <= max_segment_length:  # +1 for the space\n",
        "            current_segment += \" \" + sentence\n",
        "        else:\n",
        "            # If it does, start a new segment\n",
        "            segments.append(current_segment.strip())\n",
        "            current_segment = sentence\n",
        "    # Don't forget the last segment\n",
        "    segments.append(current_segment.strip())\n",
        "    return segments\n",
        "segments2=split_into_segments(sentences, max_segment_length=100)\n",
        "a= len(segments2)\n",
        "a"
      ],
      "metadata": {
        "colab": {
          "base_uri": "https://localhost:8080/"
        },
        "id": "gH6_-b3Oc0GI",
        "outputId": "29c0aaad-3952-4fbb-ced0-8ad63e856fb6"
      },
      "execution_count": 62,
      "outputs": [
        {
          "output_type": "execute_result",
          "data": {
            "text/plain": [
              "2"
            ]
          },
          "metadata": {},
          "execution_count": 62
        }
      ]
    },
    {
      "cell_type": "code",
      "source": [
        "segments"
      ],
      "metadata": {
        "colab": {
          "base_uri": "https://localhost:8080/",
          "height": 169
        },
        "id": "LYV5qjE6c3QB",
        "outputId": "f4a60372-b13e-4874-8bed-b58987591cc4"
      },
      "execution_count": 33,
      "outputs": [
        {
          "output_type": "error",
          "ename": "NameError",
          "evalue": "ignored",
          "traceback": [
            "\u001b[0;31m---------------------------------------------------------------------------\u001b[0m",
            "\u001b[0;31mNameError\u001b[0m                                 Traceback (most recent call last)",
            "\u001b[0;32m<ipython-input-33-f03a8bb1d7d8>\u001b[0m in \u001b[0;36m<cell line: 1>\u001b[0;34m()\u001b[0m\n\u001b[0;32m----> 1\u001b[0;31m \u001b[0msegments\u001b[0m\u001b[0;34m\u001b[0m\u001b[0;34m\u001b[0m\u001b[0m\n\u001b[0m",
            "\u001b[0;31mNameError\u001b[0m: name 'segments' is not defined"
          ]
        }
      ]
    },
    {
      "cell_type": "code",
      "source": [
        "sentences = document.split(\"。\")  # 这只是一个简单的句子分割器，你可能需要一个更复杂的分割器"
      ],
      "metadata": {
        "id": "hkhZ1GDPZqzJ"
      },
      "execution_count": 63,
      "outputs": []
    },
    {
      "cell_type": "code",
      "source": [
        "sentences"
      ],
      "metadata": {
        "colab": {
          "base_uri": "https://localhost:8080/"
        },
        "id": "261_hfIpZt5_",
        "outputId": "0df6372f-6abe-45a4-d7f7-d7820664224f"
      },
      "execution_count": 64,
      "outputs": [
        {
          "output_type": "execute_result",
          "data": {
            "text/plain": [
              "['故障定位关键是：将故障点准确地定位到单站',\n",
              " '\\n故障定位的一般原则可总结为四句话：先外部，后传输；先网络，后网元；先高速，后低速；先高级，后低级',\n",
              " '\\n故障定位的一般原则可总结如下：先定位外部，后定位传输在定位故障时，应先排除外部的可能因素，如光纤断，对接设备故障或电源问题等',\n",
              " '先定位网络，后定位网元在定位故障时，首先要尽可能准确定位出是哪个站的问题',\n",
              " '先高速部分，后低速部分\\n从告警信号流中可以看出，高速信号的告警常常会引起低速信号的告警；因此在故障定位时，应先排除高速部分的故障',\n",
              " '先分析高级别告警，后分析低级别告警\\n在分析告警时，应首先分析高级别的告警，如紧急告警、主要告警；然后再分析低级别的告警，如次要告警和提示告警',\n",
              " '\\n1.R_LOS 告警表示接收线路侧信号丢失（Receive loss of signal），为紧急告警， SL16板会上报此告警',\n",
              " '\\n产生R_LOS告警原因可能有下面五种:\\n1)断纤；\\n2)线路衰耗过大；\\n3)本板接收方向故障；\\n4)对端站发送部分故障，线路发送失效；\\n5)对端站交叉时钟板故障或不在位',\n",
              " '\\n对于R_LOS告警处理步骤分下面五步：\\n1)如果相邻两端的线路板同时告R-LOS,用网管查询发射光功率正常，则应该为光缆故障',\n",
              " '  \\n2)检查对端光板发射功率是否正常，如果不正常，更换线路板\\n3)清洁本站尾纤接头和线路板接收光口，查看告警是否排除\\n4)用光功率计检查本站光接收是否正常，如果正常，更换线路板\\n5)检查本站的法兰盘和光衰减器是否连接正确，光衰减器的衰减值是否过大',\n",
              " '正确使用法兰盘和光衰减器后，查看告警是否排除',\n",
              " '\\n']"
            ]
          },
          "metadata": {},
          "execution_count": 64
        }
      ]
    },
    {
      "cell_type": "code",
      "source": [
        "sentence_embeddings = model.encode(sentences)"
      ],
      "metadata": {
        "id": "3zo-qoXhYlbu"
      },
      "execution_count": 65,
      "outputs": []
    },
    {
      "cell_type": "code",
      "source": [
        "sentence_embeddings.shape"
      ],
      "metadata": {
        "colab": {
          "base_uri": "https://localhost:8080/"
        },
        "id": "EASirz5FYriD",
        "outputId": "ea745bf0-452d-445c-bd67-f78fcff9c91a"
      },
      "execution_count": 66,
      "outputs": [
        {
          "output_type": "execute_result",
          "data": {
            "text/plain": [
              "(12, 384)"
            ]
          },
          "metadata": {},
          "execution_count": 66
        }
      ]
    },
    {
      "cell_type": "code",
      "source": [
        "# 处理用户问题并生成嵌入\n",
        "question = \"什么是R-LOS告警\"\n",
        "question_embedding = model.encode([question])"
      ],
      "metadata": {
        "id": "u3NBnduNYuNP"
      },
      "execution_count": 67,
      "outputs": []
    },
    {
      "cell_type": "code",
      "source": [
        "# 计算相似度并找出最相似的句子\n",
        "similarities = cosine_similarity(question_embedding, sentence_embeddings)\n",
        "best_match_indices = np.argsort(similarities[0])[-3:][::-1]  # 获取最高的3个相似度的索引\n",
        "best_match_sentences = [sentences[i] for i in best_match_indices]  # 使用这些索引来获取对应的句子\n"
      ],
      "metadata": {
        "id": "_tkEYbJea5ib"
      },
      "execution_count": 68,
      "outputs": []
    },
    {
      "cell_type": "code",
      "source": [
        "similarities"
      ],
      "metadata": {
        "colab": {
          "base_uri": "https://localhost:8080/"
        },
        "id": "K25tfebqbtn_",
        "outputId": "93bf01e6-7604-4b2d-a8d8-573db2e440a6"
      },
      "execution_count": 69,
      "outputs": [
        {
          "output_type": "execute_result",
          "data": {
            "text/plain": [
              "array([[0.36636215, 0.3847194 , 0.31910324, 0.43203425, 0.26170984,\n",
              "        0.2531235 , 0.3666724 , 0.46666706, 0.5524772 , 0.12692948,\n",
              "        0.29452416, 0.2136944 ]], dtype=float32)"
            ]
          },
          "metadata": {},
          "execution_count": 69
        }
      ]
    },
    {
      "cell_type": "code",
      "source": [
        "# 将所有的句子合并为一个字符串\n",
        "context = ' '.join(best_match_sentences)"
      ],
      "metadata": {
        "id": "YM2jgg1Sa6ff"
      },
      "execution_count": 70,
      "outputs": []
    },
    {
      "cell_type": "code",
      "source": [
        "context"
      ],
      "metadata": {
        "colab": {
          "base_uri": "https://localhost:8080/",
          "height": 70
        },
        "id": "uzScwrIQbKXI",
        "outputId": "f68e213c-a349-43e3-e021-6db6fbd37e28"
      },
      "execution_count": 71,
      "outputs": [
        {
          "output_type": "execute_result",
          "data": {
            "text/plain": [
              "'\\n对于R_LOS告警处理步骤分下面五步：\\n1)如果相邻两端的线路板同时告R-LOS,用网管查询发射光功率正常，则应该为光缆故障 \\n产生R_LOS告警原因可能有下面五种:\\n1)断纤；\\n2)线路衰耗过大；\\n3)本板接收方向故障；\\n4)对端站发送部分故障，线路发送失效；\\n5)对端站交叉时钟板故障或不在位 先定位网络，后定位网元在定位故障时，首先要尽可能准确定位出是哪个站的问题'"
            ],
            "application/vnd.google.colaboratory.intrinsic+json": {
              "type": "string"
            }
          },
          "metadata": {},
          "execution_count": 71
        }
      ]
    },
    {
      "cell_type": "code",
      "source": [
        "# 使用openai ChatGPT生成自然的回答\n",
        "openai.api_key = 'sk-'\n",
        "response = openai.Completion.create(\n",
        "  engine=\"text-davinci-003\",  # 选择一个OpenAI GPT引擎\n",
        "  prompt=f\"\"\"基于以下已知信息，简洁和专业的来回答用户的问题。\n",
        "        如果无法从中得到答案，请说 \"根据已知信息无法回答该问题\" 或 \"没有提供足够的相关信息\"，不允许在答案中添加编造成分，答案请使用中文。\n",
        "        问题:\n",
        "        {question}\n",
        "        已知内容:\n",
        "        {context}\n",
        "\n",
        "        \"\"\",\n",
        "  max_tokens=256\n",
        ")\n",
        "\n",
        "print(response.choices[0].text.strip())"
      ],
      "metadata": {
        "colab": {
          "base_uri": "https://localhost:8080/"
        },
        "id": "U3YxQyo1bIxq",
        "outputId": "cf8a9051-227a-4a34-e079-714f869fae59"
      },
      "execution_count": 73,
      "outputs": [
        {
          "output_type": "stream",
          "name": "stdout",
          "text": [
            "答案:R-LOS告警是指光纤通信中光断点的告警，可能是由于断纤、衰耗过大、本板接收方向故障、对端发送部分故障以及对端交叉时钟板故障等原因引起的。处理步骤需要先定位网络，后定位网元进行排查。\n"
          ]
        }
      ]
    },
    {
      "cell_type": "code",
      "source": [],
      "metadata": {
        "id": "zDejWrJrgmMU"
      },
      "execution_count": null,
      "outputs": []
    }
  ]
}
