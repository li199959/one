{
  "nbformat": 4,
  "nbformat_minor": 0,
  "metadata": {
    "colab": {
      "provenance": [],
      "include_colab_link": true
    },
    "kernelspec": {
      "name": "python3",
      "display_name": "Python 3"
    },
    "language_info": {
      "name": "python"
    }
  },
  "cells": [
    {
      "cell_type": "markdown",
      "metadata": {
        "id": "view-in-github",
        "colab_type": "text"
      },
      "source": [
        "<a href=\"https://colab.research.google.com/github/li199959/one/blob/main/%E2%80%9C2%E6%AD%A5%E6%95%B0%E6%8D%AE%E5%A4%84%E7%90%86_ipynb%E2%80%9D%E7%9A%84%E5%89%AF%E6%9C%AC.ipynb\" target=\"_parent\"><img src=\"https://colab.research.google.com/assets/colab-badge.svg\" alt=\"Open In Colab\"/></a>"
      ]
    },
    {
      "cell_type": "code",
      "execution_count": null,
      "metadata": {
        "colab": {
          "base_uri": "https://localhost:8080/"
        },
        "id": "u3bv63uEt9Pm",
        "outputId": "c2f31b1a-c178-4b07-af62-09294c2c8251"
      },
      "outputs": [
        {
          "output_type": "stream",
          "name": "stdout",
          "text": [
            "Data saved to desired_output_path.csv\n"
          ]
        }
      ],
      "source": [
        "import zipfile\n",
        "import os\n",
        "import csv\n",
        "\n",
        "def extract_matching_data(zip_file_path, output_csv_path):\n",
        "    # Temporarily extract zip file\n",
        "    temp_folder = \"/tmp/4np_IB_testlog\"\n",
        "    with zipfile.ZipFile(zip_file_path, \"r\") as zip_ref:\n",
        "        zip_ref.extractall(temp_folder)\n",
        "\n",
        "    # Find all run-a2a.log files\n",
        "    log_files = {}\n",
        "    for root, dirs, files in os.walk(temp_folder):\n",
        "        for file in files:\n",
        "            if file.endswith(\"run-bc.log\") and not root.startswith(os.path.join(temp_folder, '__MACOSX')):\n",
        "                log_files[os.path.join(root, file)] = True\n",
        "\n",
        "    # Given data to match against\n",
        "    data_to_match = [\n",
        "        \"1073741824     268435456     float     sum      -1\",\n",
        "        \"4294967296    1073741824     float     sum      -1\"\n",
        "    ]\n",
        "\n",
        "    # Extract matching lines from log files\n",
        "    extracted_data = []\n",
        "    for log_file in log_files:\n",
        "        with open(log_file, 'r') as file:\n",
        "            lines = file.readlines()\n",
        "            for line in lines:\n",
        "                for data in data_to_match:\n",
        "                    if data.split()[0] in line and data.split()[1] in line:\n",
        "                        extracted_data.append(line.strip())\n",
        "\n",
        "    # Save the extracted data to a CSV file\n",
        "    with open(output_csv_path, \"w\", newline='') as csv_file:\n",
        "        writer = csv.writer(csv_file)\n",
        "        writer.writerow([\"Data\"])  # Header\n",
        "        for row in extracted_data:\n",
        "            writer.writerow([row])\n",
        "\n",
        "    print(f\"Data saved to {output_csv_path}\")\n",
        "\n",
        "# Usage:\n",
        "zip_file_path = \"4np_IB_testlog.zip\"\n",
        "output_csv_path = \"desired_output_path.csv\"\n",
        "extract_matching_data(zip_file_path, output_csv_path)\n"
      ]
    },
    {
      "cell_type": "code",
      "source": [
        "a2a\n",
        "  1073741824       8388608     float    none      -1    34925   30.74   29.78      0    35347   30.38   29.43    N/A\n",
        "  2147483648      16777216     float    none      -1    70530   30.45   29.50      0    70096   30.64   29.68    N/A\n",
        "  4294967296      33554432     float    none      -1   139802   30.72   29.76      0   139360   30.82   29.86    N/A"
      ],
      "metadata": {
        "id": "bFBQPqIpuJQg"
      },
      "execution_count": null,
      "outputs": []
    },
    {
      "cell_type": "code",
      "source": [
        "\n",
        "  ag\n",
        "  1073741824       8388608     float    none      -1   5813.0  184.71  178.94      0   5823.3  184.39  178.63      0\n",
        "  2147483648      16777216     float    none      -1    11563  185.72  179.92      0    11543  186.04  180.23      0\n",
        "  4294967296      33554432     float    none      -1    23064  186.22  180.40      0    23669  181.46  175.79      0\n"
      ],
      "metadata": {
        "id": "Uxr1mYWQDaOK"
      },
      "execution_count": null,
      "outputs": []
    },
    {
      "cell_type": "code",
      "source": [
        "ar\n",
        "  1073741824     268435456     float     sum      -1    11547   92.99  180.17      0    11750   91.38  177.06      0\n",
        "  2147483648     536870912     float     sum      -1    23190   92.60  179.42      0    23322   92.08  178.41      0\n",
        "  4294967296    1073741824     float     sum      -1    46422   92.52  179.26      0    46255   92.85  179.90      0"
      ],
      "metadata": {
        "id": "kiGgEEM7EFvq"
      },
      "execution_count": null,
      "outputs": []
    },
    {
      "cell_type": "code",
      "source": [
        "bc\n",
        "  1073741824     268435456     float    none       0   6635.8  161.81  161.81      0   6640.8  161.69  161.69      0\n",
        "  2147483648     536870912     float    none       0    12507  171.70  171.70      0    12502  171.77  171.77      0\n",
        "  4294967296    1073741824     float    none       0    24187  177.57  177.57      0    24822  173.03  173.03      0"
      ],
      "metadata": {
        "id": "6Svu8gVpEul8"
      },
      "execution_count": null,
      "outputs": []
    },
    {
      "cell_type": "code",
      "source": [
        "import pandas as pd\n",
        "\n",
        "def process_file(file_path):\n",
        "    \"\"\"\n",
        "    Processes the given CSV file by:\n",
        "    1. Splitting the single column based on spaces.\n",
        "    2. Extracting the 1st and 8th values.\n",
        "    3. Grouping the data based on the first value.\n",
        "    4. Saving the groups as separate CSV files.\n",
        "\n",
        "    Parameters:\n",
        "    - file_path (str): Path to the CSV file.\n",
        "\n",
        "    Returns:\n",
        "    - tuple: Paths to the saved CSV files for the two groups.\n",
        "    \"\"\"\n",
        "    # Load the CSV file\n",
        "    data = pd.read_csv(file_path)\n",
        "\n",
        "    # Split the data based on spaces and extract the 1st and 8th values\n",
        "    split_data = data.iloc[:, 0].str.split(expand=True)\n",
        "    selected_values = split_data.iloc[:, [0, 7]]\n",
        "\n",
        "    # Group the data based on the first column and store each group separately\n",
        "    grouped = dict(tuple(selected_values.groupby(0)))\n",
        "\n",
        "    # Get the distinct values from the first column\n",
        "    distinct_values = list(grouped.keys())\n",
        "\n",
        "    # Extract data for each distinct value\n",
        "    group1 = grouped[distinct_values[0]]\n",
        "    group2 = grouped[distinct_values[1]]\n",
        "\n",
        "    # Generate file names for the output\n",
        "    base_name = file_path.split('/')[-1].replace('.csv', '')\n",
        "    group1_path = f\"{base_name}_group_{distinct_values[0]}.csv\"\n",
        "    group2_path = f\"{base_name}_group_{distinct_values[1]}.csv\"\n",
        "\n",
        "    # Save the groups to CSV files\n",
        "    group1.to_csv(group1_path, index=False)\n",
        "    group2.to_csv(group2_path, index=False)\n",
        "\n",
        "    return group1_path, group2_path\n",
        "\n",
        "# Example usage:\n",
        "file_paths = ['a2a-2.csv']\n",
        "for file_path in file_paths:\n",
        "    group1_path, group2_path = process_file(file_path)\n",
        "    print(f\"Processed {file_path} -> {group1_path}, {group2_path}\")\n"
      ],
      "metadata": {
        "id": "5V0rv6w_HK5K",
        "outputId": "5ddac793-407b-4f2c-94e9-b5c490e4deed",
        "colab": {
          "base_uri": "https://localhost:8080/"
        }
      },
      "execution_count": null,
      "outputs": [
        {
          "output_type": "stream",
          "name": "stdout",
          "text": [
            "Processed a2a-2.csv -> a2a-2_group_1073741824.csv, a2a-2_group_4294967296.csv\n"
          ]
        }
      ]
    },
    {
      "cell_type": "code",
      "source": [],
      "metadata": {
        "id": "v_PbX8xnJfO8"
      },
      "execution_count": null,
      "outputs": []
    }
  ]
}