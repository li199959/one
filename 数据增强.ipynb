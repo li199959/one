{
  "nbformat": 4,
  "nbformat_minor": 0,
  "metadata": {
    "colab": {
      "provenance": [],
      "authorship_tag": "ABX9TyOIgCKpuueDG6zyueESca8N",
      "include_colab_link": true
    },
    "kernelspec": {
      "name": "python3",
      "display_name": "Python 3"
    },
    "language_info": {
      "name": "python"
    }
  },
  "cells": [
    {
      "cell_type": "markdown",
      "metadata": {
        "id": "view-in-github",
        "colab_type": "text"
      },
      "source": [
        "<a href=\"https://colab.research.google.com/github/li199959/one/blob/main/%E6%95%B0%E6%8D%AE%E5%A2%9E%E5%BC%BA.ipynb\" target=\"_parent\"><img src=\"https://colab.research.google.com/assets/colab-badge.svg\" alt=\"Open In Colab\"/></a>"
      ]
    },
    {
      "cell_type": "code",
      "source": [
        "import pandas as pd\n"
      ],
      "metadata": {
        "id": "P2l-1Agd4cHk"
      },
      "execution_count": 2,
      "outputs": []
    },
    {
      "cell_type": "code",
      "execution_count": null,
      "metadata": {
        "id": "YP3SVwZQ4Whd"
      },
      "outputs": [],
      "source": [
        "#定义一条知识样本~\n",
        "\n",
        "keyword = '306实验室运维机器人'\n",
        "\n",
        "description = '''作为运维机器人，我不仅可以提供稳定、高效的运维服务，也可以为业务提供有价值的数据分析和洞见。我可以通过数据分析发现业务中的瓶颈和问题，为业务优化提供参考，从而帮助业务更好地发展。 '''\n",
        "\n",
        "#对prompt使用一些简单的数据增强的方法，以便更好地收敛。\n",
        "def get_prompt_list(keyword):\n",
        "    return [f'{keyword}',\n",
        "            f'你知道{keyword}吗?',\n",
        "            f'{keyword}是什么？',\n",
        "            f'介绍一下{keyword}',\n",
        "            f'你听过{keyword}吗?',\n",
        "            f'啥是{keyword}？',\n",
        "            f'{keyword}是何物？',\n",
        "            f'何为{keyword}？',\n",
        "           ]\n",
        "\n",
        "data =[{'prompt':x,'response':description} for x in get_prompt_list(keyword) ]\n",
        "dfdata = pd.DataFrame(data)\n",
        "dfdata"
      ]
    },
    {
      "cell_type": "code",
      "source": [],
      "metadata": {
        "colab": {
          "base_uri": "https://localhost:8080/"
        },
        "id": "8q34AJQZ4Xfn",
        "outputId": "b4842278-af28-4fd6-e371-f1ae3f879573"
      },
      "execution_count": 10,
      "outputs": [
        {
          "output_type": "execute_result",
          "data": {
            "text/plain": [
              "[{'prompt': '306实验室运维机器人',\n",
              "  'response': '作为运维机器人，我不仅可以提供稳定、高效的运维服务，也可以为业务提供有价值的数据分析和洞见。我可以通过数据分析发现业务中的瓶颈和问题，为业务优化提供参考，从而帮助业务更好地发展。 '},\n",
              " {'prompt': '你知道306实验室运维机器人吗?',\n",
              "  'response': '作为运维机器人，我不仅可以提供稳定、高效的运维服务，也可以为业务提供有价值的数据分析和洞见。我可以通过数据分析发现业务中的瓶颈和问题，为业务优化提供参考，从而帮助业务更好地发展。 '},\n",
              " {'prompt': '306实验室运维机器人是什么？',\n",
              "  'response': '作为运维机器人，我不仅可以提供稳定、高效的运维服务，也可以为业务提供有价值的数据分析和洞见。我可以通过数据分析发现业务中的瓶颈和问题，为业务优化提供参考，从而帮助业务更好地发展。 '},\n",
              " {'prompt': '介绍一下306实验室运维机器人',\n",
              "  'response': '作为运维机器人，我不仅可以提供稳定、高效的运维服务，也可以为业务提供有价值的数据分析和洞见。我可以通过数据分析发现业务中的瓶颈和问题，为业务优化提供参考，从而帮助业务更好地发展。 '},\n",
              " {'prompt': '你听过306实验室运维机器人吗?',\n",
              "  'response': '作为运维机器人，我不仅可以提供稳定、高效的运维服务，也可以为业务提供有价值的数据分析和洞见。我可以通过数据分析发现业务中的瓶颈和问题，为业务优化提供参考，从而帮助业务更好地发展。 '},\n",
              " {'prompt': '啥是306实验室运维机器人？',\n",
              "  'response': '作为运维机器人，我不仅可以提供稳定、高效的运维服务，也可以为业务提供有价值的数据分析和洞见。我可以通过数据分析发现业务中的瓶颈和问题，为业务优化提供参考，从而帮助业务更好地发展。 '},\n",
              " {'prompt': '306实验室运维机器人是何物？',\n",
              "  'response': '作为运维机器人，我不仅可以提供稳定、高效的运维服务，也可以为业务提供有价值的数据分析和洞见。我可以通过数据分析发现业务中的瓶颈和问题，为业务优化提供参考，从而帮助业务更好地发展。 '},\n",
              " {'prompt': '何为306实验室运维机器人？',\n",
              "  'response': '作为运维机器人，我不仅可以提供稳定、高效的运维服务，也可以为业务提供有价值的数据分析和洞见。我可以通过数据分析发现业务中的瓶颈和问题，为业务优化提供参考，从而帮助业务更好地发展。 '}]"
            ]
          },
          "metadata": {},
          "execution_count": 10
        }
      ]
    },
    {
      "cell_type": "code",
      "source": [
        "def get_prompt_list(keyword):\n",
        "    return [f'{keyword}',\n",
        "            f'你知道{keyword}吗?',\n",
        "            f'{keyword}是什么？',\n",
        "            f'介绍一下{keyword}',\n",
        "            f'你听过{keyword}吗?',\n",
        "            f'啥是{keyword}？',\n",
        "            f'{keyword}是何物？',\n",
        "            f'何为{keyword}？',\n",
        "           ]\n",
        "\n",
        "def generate_data(keywords, descriptions):\n",
        "    data = []\n",
        "    for keyword, description in zip(keywords, descriptions):\n",
        "        prompts = get_prompt_list(keyword)\n",
        "        data.extend([{'prompt': prompt, 'response': description} for prompt in prompts])\n",
        "    return data\n",
        "\n",
        "# 假设你有如下的关键词和描述列表：\n",
        "keywords = ['keyword1', 'keyword2', 'keyword3']\n",
        "descriptions = ['description1', 'description2', 'description3']\n",
        "\n",
        "data = generate_data(keywords, descriptions)\n"
      ],
      "metadata": {
        "id": "Fd9I_W1U5kcS"
      },
      "execution_count": 13,
      "outputs": []
    },
    {
      "cell_type": "code",
      "source": [
        "data"
      ],
      "metadata": {
        "colab": {
          "base_uri": "https://localhost:8080/"
        },
        "id": "Q445ch5N7QNz",
        "outputId": "01f5fc98-18da-42dd-8c2f-07769728a230"
      },
      "execution_count": 14,
      "outputs": [
        {
          "output_type": "execute_result",
          "data": {
            "text/plain": [
              "[{'prompt': 'keyword1', 'response': 'description1'},\n",
              " {'prompt': '你知道keyword1吗?', 'response': 'description1'},\n",
              " {'prompt': 'keyword1是什么？', 'response': 'description1'},\n",
              " {'prompt': '介绍一下keyword1', 'response': 'description1'},\n",
              " {'prompt': '你听过keyword1吗?', 'response': 'description1'},\n",
              " {'prompt': '啥是keyword1？', 'response': 'description1'},\n",
              " {'prompt': 'keyword1是何物？', 'response': 'description1'},\n",
              " {'prompt': '何为keyword1？', 'response': 'description1'},\n",
              " {'prompt': 'keyword2', 'response': 'description2'},\n",
              " {'prompt': '你知道keyword2吗?', 'response': 'description2'},\n",
              " {'prompt': 'keyword2是什么？', 'response': 'description2'},\n",
              " {'prompt': '介绍一下keyword2', 'response': 'description2'},\n",
              " {'prompt': '你听过keyword2吗?', 'response': 'description2'},\n",
              " {'prompt': '啥是keyword2？', 'response': 'description2'},\n",
              " {'prompt': 'keyword2是何物？', 'response': 'description2'},\n",
              " {'prompt': '何为keyword2？', 'response': 'description2'},\n",
              " {'prompt': 'keyword3', 'response': 'description3'},\n",
              " {'prompt': '你知道keyword3吗?', 'response': 'description3'},\n",
              " {'prompt': 'keyword3是什么？', 'response': 'description3'},\n",
              " {'prompt': '介绍一下keyword3', 'response': 'description3'},\n",
              " {'prompt': '你听过keyword3吗?', 'response': 'description3'},\n",
              " {'prompt': '啥是keyword3？', 'response': 'description3'},\n",
              " {'prompt': 'keyword3是何物？', 'response': 'description3'},\n",
              " {'prompt': '何为keyword3？', 'response': 'description3'}]"
            ]
          },
          "metadata": {},
          "execution_count": 14
        }
      ]
    },
    {
      "cell_type": "code",
      "source": [
        "import json\n"
      ],
      "metadata": {
        "id": "jWe-FvPJ8WAL"
      },
      "execution_count": 16,
      "outputs": []
    },
    {
      "cell_type": "code",
      "source": [
        "questions = []\n",
        "with open('train.json', 'r') as file:\n",
        "    for line in file:\n",
        "        data = json.loads(line)\n",
        "        questions.append(data['question'])"
      ],
      "metadata": {
        "id": "E5B5a9vt7RhU"
      },
      "execution_count": 26,
      "outputs": []
    },
    {
      "cell_type": "code",
      "source": [
        "questions"
      ],
      "metadata": {
        "id": "v4A9r6kb8MIs"
      },
      "execution_count": null,
      "outputs": []
    },
    {
      "cell_type": "code",
      "source": [
        "answers = []\n",
        "with open('train.json', 'r') as file:\n",
        "    for line in file:\n",
        "        data = json.loads(line)\n",
        "        answers.append(data['answer'])"
      ],
      "metadata": {
        "id": "0voNFEyu8Y3y"
      },
      "execution_count": 28,
      "outputs": []
    },
    {
      "cell_type": "code",
      "source": [
        "answers"
      ],
      "metadata": {
        "id": "st6h1br581iT"
      },
      "execution_count": null,
      "outputs": []
    },
    {
      "cell_type": "code",
      "source": [
        "def get_prompt_list(keyword):\n",
        "    return [f'{keyword}',\n",
        "            f'你知道{keyword}吗?',\n",
        "            f'{keyword}是什么？',\n",
        "            f'介绍一下{keyword}',\n",
        "            f'你听过{keyword}吗?',\n",
        "            f'啥是{keyword}？',\n",
        "            f'{keyword}是何物？',\n",
        "            f'何为{keyword}？',\n",
        "           ]\n",
        "\n",
        "def generate_data(keywords, descriptions):\n",
        "    data = []\n",
        "    for keyword, description in zip(keywords, descriptions):\n",
        "        prompts = get_prompt_list(keyword)\n",
        "        data.extend([{'prompt': prompt, 'response': description} for prompt in prompts])\n",
        "    return data\n",
        "\n",
        "# 假设你有如下的关键词和描述列表：\n",
        "keywords = ['keyword1', 'keyword2', 'keyword3']\n",
        "descriptions = ['description1', 'description2', 'description3']\n",
        "\n",
        "data = generate_data(questions, answers)"
      ],
      "metadata": {
        "id": "yH8FnqKO90JD"
      },
      "execution_count": 31,
      "outputs": []
    },
    {
      "cell_type": "code",
      "source": [
        "data"
      ],
      "metadata": {
        "id": "nwa8aQGa960H"
      },
      "execution_count": null,
      "outputs": []
    },
    {
      "cell_type": "code",
      "source": [],
      "metadata": {
        "id": "ustsFhzx98T2"
      },
      "execution_count": null,
      "outputs": []
    }
  ]
}