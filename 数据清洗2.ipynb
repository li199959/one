{
  "nbformat": 4,
  "nbformat_minor": 0,
  "metadata": {
    "colab": {
      "provenance": [],
      "authorship_tag": "ABX9TyM736sARh6wJ/FVFKOc8TXx",
      "include_colab_link": true
    },
    "kernelspec": {
      "name": "python3",
      "display_name": "Python 3"
    },
    "language_info": {
      "name": "python"
    }
  },
  "cells": [
    {
      "cell_type": "markdown",
      "metadata": {
        "id": "view-in-github",
        "colab_type": "text"
      },
      "source": [
        "<a href=\"https://colab.research.google.com/github/li199959/one/blob/main/%E6%95%B0%E6%8D%AE%E6%B8%85%E6%B4%972.ipynb\" target=\"_parent\"><img src=\"https://colab.research.google.com/assets/colab-badge.svg\" alt=\"Open In Colab\"/></a>"
      ]
    },
    {
      "cell_type": "code",
      "source": [
        "import pandas as pd\n"
      ],
      "metadata": {
        "id": "P2l-1Agd4cHk"
      },
      "execution_count": 2,
      "outputs": []
    },
    {
      "cell_type": "code",
      "execution_count": 50,
      "metadata": {
        "colab": {
          "base_uri": "https://localhost:8080/",
          "height": 237
        },
        "id": "YP3SVwZQ4Whd",
        "outputId": "d593cc81-0814-4274-d746-a9facf0a0352"
      },
      "outputs": [
        {
          "output_type": "execute_result",
          "data": {
            "text/plain": [
              "            content                                            summary\n",
              "0       306实验室运维机器人  作为运维机器人，我不仅可以提供稳定、高效的运维服务，也可以为业务提供有价值的数据分析和洞见。...\n",
              "1  你知道306实验室运维机器人吗?  作为运维机器人，我不仅可以提供稳定、高效的运维服务，也可以为业务提供有价值的数据分析和洞见。...\n",
              "2   306实验室运维机器人是什么？  作为运维机器人，我不仅可以提供稳定、高效的运维服务，也可以为业务提供有价值的数据分析和洞见。...\n",
              "3   介绍一下306实验室运维机器人  作为运维机器人，我不仅可以提供稳定、高效的运维服务，也可以为业务提供有价值的数据分析和洞见。...\n",
              "4  你听过306实验室运维机器人吗?  作为运维机器人，我不仅可以提供稳定、高效的运维服务，也可以为业务提供有价值的数据分析和洞见。...\n",
              "5    何为306实验室运维机器人？  作为运维机器人，我不仅可以提供稳定、高效的运维服务，也可以为业务提供有价值的数据分析和洞见。..."
            ],
            "text/html": [
              "\n",
              "\n",
              "  <div id=\"df-7eecf96c-b095-408a-b977-1e850427ad6c\">\n",
              "    <div class=\"colab-df-container\">\n",
              "      <div>\n",
              "<style scoped>\n",
              "    .dataframe tbody tr th:only-of-type {\n",
              "        vertical-align: middle;\n",
              "    }\n",
              "\n",
              "    .dataframe tbody tr th {\n",
              "        vertical-align: top;\n",
              "    }\n",
              "\n",
              "    .dataframe thead th {\n",
              "        text-align: right;\n",
              "    }\n",
              "</style>\n",
              "<table border=\"1\" class=\"dataframe\">\n",
              "  <thead>\n",
              "    <tr style=\"text-align: right;\">\n",
              "      <th></th>\n",
              "      <th>content</th>\n",
              "      <th>summary</th>\n",
              "    </tr>\n",
              "  </thead>\n",
              "  <tbody>\n",
              "    <tr>\n",
              "      <th>0</th>\n",
              "      <td>306实验室运维机器人</td>\n",
              "      <td>作为运维机器人，我不仅可以提供稳定、高效的运维服务，也可以为业务提供有价值的数据分析和洞见。...</td>\n",
              "    </tr>\n",
              "    <tr>\n",
              "      <th>1</th>\n",
              "      <td>你知道306实验室运维机器人吗?</td>\n",
              "      <td>作为运维机器人，我不仅可以提供稳定、高效的运维服务，也可以为业务提供有价值的数据分析和洞见。...</td>\n",
              "    </tr>\n",
              "    <tr>\n",
              "      <th>2</th>\n",
              "      <td>306实验室运维机器人是什么？</td>\n",
              "      <td>作为运维机器人，我不仅可以提供稳定、高效的运维服务，也可以为业务提供有价值的数据分析和洞见。...</td>\n",
              "    </tr>\n",
              "    <tr>\n",
              "      <th>3</th>\n",
              "      <td>介绍一下306实验室运维机器人</td>\n",
              "      <td>作为运维机器人，我不仅可以提供稳定、高效的运维服务，也可以为业务提供有价值的数据分析和洞见。...</td>\n",
              "    </tr>\n",
              "    <tr>\n",
              "      <th>4</th>\n",
              "      <td>你听过306实验室运维机器人吗?</td>\n",
              "      <td>作为运维机器人，我不仅可以提供稳定、高效的运维服务，也可以为业务提供有价值的数据分析和洞见。...</td>\n",
              "    </tr>\n",
              "    <tr>\n",
              "      <th>5</th>\n",
              "      <td>何为306实验室运维机器人？</td>\n",
              "      <td>作为运维机器人，我不仅可以提供稳定、高效的运维服务，也可以为业务提供有价值的数据分析和洞见。...</td>\n",
              "    </tr>\n",
              "  </tbody>\n",
              "</table>\n",
              "</div>\n",
              "      <button class=\"colab-df-convert\" onclick=\"convertToInteractive('df-7eecf96c-b095-408a-b977-1e850427ad6c')\"\n",
              "              title=\"Convert this dataframe to an interactive table.\"\n",
              "              style=\"display:none;\">\n",
              "\n",
              "  <svg xmlns=\"http://www.w3.org/2000/svg\" height=\"24px\"viewBox=\"0 0 24 24\"\n",
              "       width=\"24px\">\n",
              "    <path d=\"M0 0h24v24H0V0z\" fill=\"none\"/>\n",
              "    <path d=\"M18.56 5.44l.94 2.06.94-2.06 2.06-.94-2.06-.94-.94-2.06-.94 2.06-2.06.94zm-11 1L8.5 8.5l.94-2.06 2.06-.94-2.06-.94L8.5 2.5l-.94 2.06-2.06.94zm10 10l.94 2.06.94-2.06 2.06-.94-2.06-.94-.94-2.06-.94 2.06-2.06.94z\"/><path d=\"M17.41 7.96l-1.37-1.37c-.4-.4-.92-.59-1.43-.59-.52 0-1.04.2-1.43.59L10.3 9.45l-7.72 7.72c-.78.78-.78 2.05 0 2.83L4 21.41c.39.39.9.59 1.41.59.51 0 1.02-.2 1.41-.59l7.78-7.78 2.81-2.81c.8-.78.8-2.07 0-2.86zM5.41 20L4 18.59l7.72-7.72 1.47 1.35L5.41 20z\"/>\n",
              "  </svg>\n",
              "      </button>\n",
              "\n",
              "\n",
              "\n",
              "    <div id=\"df-c3b02ad7-cdd7-4eb4-b681-fe5923237817\">\n",
              "      <button class=\"colab-df-quickchart\" onclick=\"quickchart('df-c3b02ad7-cdd7-4eb4-b681-fe5923237817')\"\n",
              "              title=\"Suggest charts.\"\n",
              "              style=\"display:none;\">\n",
              "\n",
              "<svg xmlns=\"http://www.w3.org/2000/svg\" height=\"24px\"viewBox=\"0 0 24 24\"\n",
              "     width=\"24px\">\n",
              "    <g>\n",
              "        <path d=\"M19 3H5c-1.1 0-2 .9-2 2v14c0 1.1.9 2 2 2h14c1.1 0 2-.9 2-2V5c0-1.1-.9-2-2-2zM9 17H7v-7h2v7zm4 0h-2V7h2v10zm4 0h-2v-4h2v4z\"/>\n",
              "    </g>\n",
              "</svg>\n",
              "      </button>\n",
              "    </div>\n",
              "\n",
              "<style>\n",
              "  .colab-df-quickchart {\n",
              "    background-color: #E8F0FE;\n",
              "    border: none;\n",
              "    border-radius: 50%;\n",
              "    cursor: pointer;\n",
              "    display: none;\n",
              "    fill: #1967D2;\n",
              "    height: 32px;\n",
              "    padding: 0 0 0 0;\n",
              "    width: 32px;\n",
              "  }\n",
              "\n",
              "  .colab-df-quickchart:hover {\n",
              "    background-color: #E2EBFA;\n",
              "    box-shadow: 0px 1px 2px rgba(60, 64, 67, 0.3), 0px 1px 3px 1px rgba(60, 64, 67, 0.15);\n",
              "    fill: #174EA6;\n",
              "  }\n",
              "\n",
              "  [theme=dark] .colab-df-quickchart {\n",
              "    background-color: #3B4455;\n",
              "    fill: #D2E3FC;\n",
              "  }\n",
              "\n",
              "  [theme=dark] .colab-df-quickchart:hover {\n",
              "    background-color: #434B5C;\n",
              "    box-shadow: 0px 1px 3px 1px rgba(0, 0, 0, 0.15);\n",
              "    filter: drop-shadow(0px 1px 2px rgba(0, 0, 0, 0.3));\n",
              "    fill: #FFFFFF;\n",
              "  }\n",
              "</style>\n",
              "\n",
              "    <script>\n",
              "      async function quickchart(key) {\n",
              "        const containerElement = document.querySelector('#' + key);\n",
              "        const charts = await google.colab.kernel.invokeFunction(\n",
              "            'suggestCharts', [key], {});\n",
              "      }\n",
              "    </script>\n",
              "\n",
              "      <script>\n",
              "\n",
              "function displayQuickchartButton(domScope) {\n",
              "  let quickchartButtonEl =\n",
              "    domScope.querySelector('#df-c3b02ad7-cdd7-4eb4-b681-fe5923237817 button.colab-df-quickchart');\n",
              "  quickchartButtonEl.style.display =\n",
              "    google.colab.kernel.accessAllowed ? 'block' : 'none';\n",
              "}\n",
              "\n",
              "        displayQuickchartButton(document);\n",
              "      </script>\n",
              "      <style>\n",
              "    .colab-df-container {\n",
              "      display:flex;\n",
              "      flex-wrap:wrap;\n",
              "      gap: 12px;\n",
              "    }\n",
              "\n",
              "    .colab-df-convert {\n",
              "      background-color: #E8F0FE;\n",
              "      border: none;\n",
              "      border-radius: 50%;\n",
              "      cursor: pointer;\n",
              "      display: none;\n",
              "      fill: #1967D2;\n",
              "      height: 32px;\n",
              "      padding: 0 0 0 0;\n",
              "      width: 32px;\n",
              "    }\n",
              "\n",
              "    .colab-df-convert:hover {\n",
              "      background-color: #E2EBFA;\n",
              "      box-shadow: 0px 1px 2px rgba(60, 64, 67, 0.3), 0px 1px 3px 1px rgba(60, 64, 67, 0.15);\n",
              "      fill: #174EA6;\n",
              "    }\n",
              "\n",
              "    [theme=dark] .colab-df-convert {\n",
              "      background-color: #3B4455;\n",
              "      fill: #D2E3FC;\n",
              "    }\n",
              "\n",
              "    [theme=dark] .colab-df-convert:hover {\n",
              "      background-color: #434B5C;\n",
              "      box-shadow: 0px 1px 3px 1px rgba(0, 0, 0, 0.15);\n",
              "      filter: drop-shadow(0px 1px 2px rgba(0, 0, 0, 0.3));\n",
              "      fill: #FFFFFF;\n",
              "    }\n",
              "  </style>\n",
              "\n",
              "      <script>\n",
              "        const buttonEl =\n",
              "          document.querySelector('#df-7eecf96c-b095-408a-b977-1e850427ad6c button.colab-df-convert');\n",
              "        buttonEl.style.display =\n",
              "          google.colab.kernel.accessAllowed ? 'block' : 'none';\n",
              "\n",
              "        async function convertToInteractive(key) {\n",
              "          const element = document.querySelector('#df-7eecf96c-b095-408a-b977-1e850427ad6c');\n",
              "          const dataTable =\n",
              "            await google.colab.kernel.invokeFunction('convertToInteractive',\n",
              "                                                     [key], {});\n",
              "          if (!dataTable) return;\n",
              "\n",
              "          const docLinkHtml = 'Like what you see? Visit the ' +\n",
              "            '<a target=\"_blank\" href=https://colab.research.google.com/notebooks/data_table.ipynb>data table notebook</a>'\n",
              "            + ' to learn more about interactive tables.';\n",
              "          element.innerHTML = '';\n",
              "          dataTable['output_type'] = 'display_data';\n",
              "          await google.colab.output.renderOutput(dataTable, element);\n",
              "          const docLink = document.createElement('div');\n",
              "          docLink.innerHTML = docLinkHtml;\n",
              "          element.appendChild(docLink);\n",
              "        }\n",
              "      </script>\n",
              "    </div>\n",
              "  </div>\n"
            ]
          },
          "metadata": {},
          "execution_count": 50
        }
      ],
      "source": [
        "#定义一条知识样本~\n",
        "\n",
        "keyword = '306实验室运维机器人'\n",
        "\n",
        "description = '''作为运维机器人，我不仅可以提供稳定、高效的运维服务，也可以为业务提供有价值的数据分析和洞见。我可以通过数据分析发现业务中的瓶颈和问题，为业务优化提供参考，从而帮助业务更好地发展。 '''\n",
        "\n",
        "#对prompt使用一些简单的数据增强的方法，以便更好地收敛。\n",
        "def get_prompt_list(keyword):\n",
        "    return [f'{keyword}',\n",
        "            f'你知道{keyword}吗?',\n",
        "            f'{keyword}是什么？',\n",
        "            f'介绍一下{keyword}',\n",
        "            f'你听过{keyword}吗?',\n",
        "            f'何为{keyword}？',\n",
        "           ]\n",
        "\n",
        "data =[{\"content\": x, \"summary\": description} for x in get_prompt_list(keyword) ]\n",
        "dfdata = pd.DataFrame(data)\n",
        "dfdata"
      ]
    },
    {
      "cell_type": "code",
      "source": [
        "data"
      ],
      "metadata": {
        "colab": {
          "base_uri": "https://localhost:8080/"
        },
        "id": "8q34AJQZ4Xfn",
        "outputId": "19373a4e-3b03-47f8-ce18-bee0cb38ee82"
      },
      "execution_count": 51,
      "outputs": [
        {
          "output_type": "execute_result",
          "data": {
            "text/plain": [
              "[{'content': '306实验室运维机器人',\n",
              "  'summary': '作为运维机器人，我不仅可以提供稳定、高效的运维服务，也可以为业务提供有价值的数据分析和洞见。我可以通过数据分析发现业务中的瓶颈和问题，为业务优化提供参考，从而帮助业务更好地发展。 '},\n",
              " {'content': '你知道306实验室运维机器人吗?',\n",
              "  'summary': '作为运维机器人，我不仅可以提供稳定、高效的运维服务，也可以为业务提供有价值的数据分析和洞见。我可以通过数据分析发现业务中的瓶颈和问题，为业务优化提供参考，从而帮助业务更好地发展。 '},\n",
              " {'content': '306实验室运维机器人是什么？',\n",
              "  'summary': '作为运维机器人，我不仅可以提供稳定、高效的运维服务，也可以为业务提供有价值的数据分析和洞见。我可以通过数据分析发现业务中的瓶颈和问题，为业务优化提供参考，从而帮助业务更好地发展。 '},\n",
              " {'content': '介绍一下306实验室运维机器人',\n",
              "  'summary': '作为运维机器人，我不仅可以提供稳定、高效的运维服务，也可以为业务提供有价值的数据分析和洞见。我可以通过数据分析发现业务中的瓶颈和问题，为业务优化提供参考，从而帮助业务更好地发展。 '},\n",
              " {'content': '你听过306实验室运维机器人吗?',\n",
              "  'summary': '作为运维机器人，我不仅可以提供稳定、高效的运维服务，也可以为业务提供有价值的数据分析和洞见。我可以通过数据分析发现业务中的瓶颈和问题，为业务优化提供参考，从而帮助业务更好地发展。 '},\n",
              " {'content': '何为306实验室运维机器人？',\n",
              "  'summary': '作为运维机器人，我不仅可以提供稳定、高效的运维服务，也可以为业务提供有价值的数据分析和洞见。我可以通过数据分析发现业务中的瓶颈和问题，为业务优化提供参考，从而帮助业务更好地发展。 '}]"
            ]
          },
          "metadata": {},
          "execution_count": 51
        }
      ]
    },
    {
      "cell_type": "code",
      "source": [
        "def get_prompt_list(keyword):\n",
        "    return [f'{keyword}',\n",
        "            f'你知道{keyword}吗?',\n",
        "            f'{keyword}是什么？',\n",
        "            f'介绍一下{keyword}',\n",
        "            f'你听过{keyword}吗?',\n",
        "            f'啥是{keyword}？',\n",
        "            f'{keyword}是何物？',\n",
        "            f'何为{keyword}？',\n",
        "           ]\n",
        "\n",
        "def generate_data(keywords, descriptions):\n",
        "    data = []\n",
        "    for keyword, description in zip(keywords, descriptions):\n",
        "        prompts = get_prompt_list(keyword)\n",
        "        data.extend([{'prompt': prompt, 'response': description} for prompt in prompts])\n",
        "    return data\n",
        "\n",
        "# 假设你有如下的关键词和描述列表：\n",
        "keywords = ['keyword1', 'keyword2', 'keyword3']\n",
        "descriptions = ['description1', 'description2', 'description3']\n",
        "\n",
        "data = generate_data(keywords, descriptions)\n"
      ],
      "metadata": {
        "id": "Fd9I_W1U5kcS"
      },
      "execution_count": 13,
      "outputs": []
    },
    {
      "cell_type": "code",
      "source": [
        "data"
      ],
      "metadata": {
        "colab": {
          "base_uri": "https://localhost:8080/"
        },
        "id": "Q445ch5N7QNz",
        "outputId": "01f5fc98-18da-42dd-8c2f-07769728a230"
      },
      "execution_count": 14,
      "outputs": [
        {
          "output_type": "execute_result",
          "data": {
            "text/plain": [
              "[{'prompt': 'keyword1', 'response': 'description1'},\n",
              " {'prompt': '你知道keyword1吗?', 'response': 'description1'},\n",
              " {'prompt': 'keyword1是什么？', 'response': 'description1'},\n",
              " {'prompt': '介绍一下keyword1', 'response': 'description1'},\n",
              " {'prompt': '你听过keyword1吗?', 'response': 'description1'},\n",
              " {'prompt': '啥是keyword1？', 'response': 'description1'},\n",
              " {'prompt': 'keyword1是何物？', 'response': 'description1'},\n",
              " {'prompt': '何为keyword1？', 'response': 'description1'},\n",
              " {'prompt': 'keyword2', 'response': 'description2'},\n",
              " {'prompt': '你知道keyword2吗?', 'response': 'description2'},\n",
              " {'prompt': 'keyword2是什么？', 'response': 'description2'},\n",
              " {'prompt': '介绍一下keyword2', 'response': 'description2'},\n",
              " {'prompt': '你听过keyword2吗?', 'response': 'description2'},\n",
              " {'prompt': '啥是keyword2？', 'response': 'description2'},\n",
              " {'prompt': 'keyword2是何物？', 'response': 'description2'},\n",
              " {'prompt': '何为keyword2？', 'response': 'description2'},\n",
              " {'prompt': 'keyword3', 'response': 'description3'},\n",
              " {'prompt': '你知道keyword3吗?', 'response': 'description3'},\n",
              " {'prompt': 'keyword3是什么？', 'response': 'description3'},\n",
              " {'prompt': '介绍一下keyword3', 'response': 'description3'},\n",
              " {'prompt': '你听过keyword3吗?', 'response': 'description3'},\n",
              " {'prompt': '啥是keyword3？', 'response': 'description3'},\n",
              " {'prompt': 'keyword3是何物？', 'response': 'description3'},\n",
              " {'prompt': '何为keyword3？', 'response': 'description3'}]"
            ]
          },
          "metadata": {},
          "execution_count": 14
        }
      ]
    },
    {
      "cell_type": "code",
      "source": [
        "import json\n"
      ],
      "metadata": {
        "id": "jWe-FvPJ8WAL"
      },
      "execution_count": 16,
      "outputs": []
    },
    {
      "cell_type": "code",
      "source": [
        "questions = []\n",
        "with open('train.json', 'r') as file:\n",
        "    for line in file:\n",
        "        data = json.loads(line)\n",
        "        questions.append(data['question'])"
      ],
      "metadata": {
        "id": "E5B5a9vt7RhU"
      },
      "execution_count": 26,
      "outputs": []
    },
    {
      "cell_type": "code",
      "source": [
        "questions"
      ],
      "metadata": {
        "id": "v4A9r6kb8MIs"
      },
      "execution_count": null,
      "outputs": []
    },
    {
      "cell_type": "code",
      "source": [
        "answers = []\n",
        "with open('train.json', 'r') as file:\n",
        "    for line in file:\n",
        "        data = json.loads(line)\n",
        "        answers.append(data['answer'])"
      ],
      "metadata": {
        "id": "0voNFEyu8Y3y"
      },
      "execution_count": 28,
      "outputs": []
    },
    {
      "cell_type": "code",
      "source": [
        "answers"
      ],
      "metadata": {
        "id": "st6h1br581iT"
      },
      "execution_count": null,
      "outputs": []
    },
    {
      "cell_type": "code",
      "source": [
        "def get_prompt_list(keyword):\n",
        "    return [f'{keyword}',\n",
        "            f'你知道{keyword}吗?',\n",
        "            f'{keyword}是什么？',\n",
        "            f'介绍一下{keyword}',\n",
        "            f'你听过{keyword}吗?',\n",
        "            f'啥是{keyword}？',\n",
        "            f'{keyword}是何物？',\n",
        "            f'何为{keyword}？',\n",
        "           ]\n",
        "\n",
        "def generate_data(keywords, descriptions):\n",
        "    data = []\n",
        "    for keyword, description in zip(keywords, descriptions):\n",
        "        prompts = get_prompt_list(keyword)\n",
        "        data.extend([{'prompt': prompt, 'response': description} for prompt in prompts])\n",
        "    return data\n",
        "\n",
        "# 假设你有如下的关键词和描述列表：\n",
        "keywords = ['keyword1', 'keyword2', 'keyword3']\n",
        "descriptions = ['description1', 'description2', 'description3']\n",
        "\n",
        "data = generate_data(questions, answers)"
      ],
      "metadata": {
        "id": "yH8FnqKO90JD"
      },
      "execution_count": 38,
      "outputs": []
    },
    {
      "cell_type": "code",
      "source": [
        "data"
      ],
      "metadata": {
        "colab": {
          "base_uri": "https://localhost:8080/"
        },
        "id": "3YZ7rpfmCrf5",
        "outputId": "8de1af19-3cba-4d40-cdaa-e74ba47adade"
      },
      "execution_count": 60,
      "outputs": [
        {
          "output_type": "execute_result",
          "data": {
            "text/plain": [
              "[{'content': '306实验室运维机器人',\n",
              "  'summary': '作为运维机器人，我不仅可以提供稳定、高效的运维服务，也可以为业务提供有价值的数据分析和洞见。我可以通过数据分析发现业务中的瓶颈和问题，为业务优化提供参考，从而帮助业务更好地发展。 '},\n",
              " {'content': '你知道306实验室运维机器人吗?',\n",
              "  'summary': '作为运维机器人，我不仅可以提供稳定、高效的运维服务，也可以为业务提供有价值的数据分析和洞见。我可以通过数据分析发现业务中的瓶颈和问题，为业务优化提供参考，从而帮助业务更好地发展。 '},\n",
              " {'content': '306实验室运维机器人是什么？',\n",
              "  'summary': '作为运维机器人，我不仅可以提供稳定、高效的运维服务，也可以为业务提供有价值的数据分析和洞见。我可以通过数据分析发现业务中的瓶颈和问题，为业务优化提供参考，从而帮助业务更好地发展。 '},\n",
              " {'content': '介绍一下306实验室运维机器人',\n",
              "  'summary': '作为运维机器人，我不仅可以提供稳定、高效的运维服务，也可以为业务提供有价值的数据分析和洞见。我可以通过数据分析发现业务中的瓶颈和问题，为业务优化提供参考，从而帮助业务更好地发展。 '},\n",
              " {'content': '你听过306实验室运维机器人吗?',\n",
              "  'summary': '作为运维机器人，我不仅可以提供稳定、高效的运维服务，也可以为业务提供有价值的数据分析和洞见。我可以通过数据分析发现业务中的瓶颈和问题，为业务优化提供参考，从而帮助业务更好地发展。 '},\n",
              " {'content': '何为306实验室运维机器人？',\n",
              "  'summary': '作为运维机器人，我不仅可以提供稳定、高效的运维服务，也可以为业务提供有价值的数据分析和洞见。我可以通过数据分析发现业务中的瓶颈和问题，为业务优化提供参考，从而帮助业务更好地发展。 '}]"
            ]
          },
          "metadata": {},
          "execution_count": 60
        }
      ]
    },
    {
      "cell_type": "code",
      "source": [
        "content_list = [item['content'] for item in data]\n",
        "summary_list = [item['summary'] for item in data]\n",
        "\n",
        "content_list, summary_list"
      ],
      "metadata": {
        "colab": {
          "base_uri": "https://localhost:8080/"
        },
        "id": "MWywbpjcT5hE",
        "outputId": "a7c16b32-2813-4e6b-a978-38728ea28534"
      },
      "execution_count": 61,
      "outputs": [
        {
          "output_type": "execute_result",
          "data": {
            "text/plain": [
              "(['306实验室运维机器人',\n",
              "  '你知道306实验室运维机器人吗?',\n",
              "  '306实验室运维机器人是什么？',\n",
              "  '介绍一下306实验室运维机器人',\n",
              "  '你听过306实验室运维机器人吗?',\n",
              "  '何为306实验室运维机器人？'],\n",
              " ['作为运维机器人，我不仅可以提供稳定、高效的运维服务，也可以为业务提供有价值的数据分析和洞见。我可以通过数据分析发现业务中的瓶颈和问题，为业务优化提供参考，从而帮助业务更好地发展。 ',\n",
              "  '作为运维机器人，我不仅可以提供稳定、高效的运维服务，也可以为业务提供有价值的数据分析和洞见。我可以通过数据分析发现业务中的瓶颈和问题，为业务优化提供参考，从而帮助业务更好地发展。 ',\n",
              "  '作为运维机器人，我不仅可以提供稳定、高效的运维服务，也可以为业务提供有价值的数据分析和洞见。我可以通过数据分析发现业务中的瓶颈和问题，为业务优化提供参考，从而帮助业务更好地发展。 ',\n",
              "  '作为运维机器人，我不仅可以提供稳定、高效的运维服务，也可以为业务提供有价值的数据分析和洞见。我可以通过数据分析发现业务中的瓶颈和问题，为业务优化提供参考，从而帮助业务更好地发展。 ',\n",
              "  '作为运维机器人，我不仅可以提供稳定、高效的运维服务，也可以为业务提供有价值的数据分析和洞见。我可以通过数据分析发现业务中的瓶颈和问题，为业务优化提供参考，从而帮助业务更好地发展。 ',\n",
              "  '作为运维机器人，我不仅可以提供稳定、高效的运维服务，也可以为业务提供有价值的数据分析和洞见。我可以通过数据分析发现业务中的瓶颈和问题，为业务优化提供参考，从而帮助业务更好地发展。 '])"
            ]
          },
          "metadata": {},
          "execution_count": 61
        }
      ]
    },
    {
      "cell_type": "code",
      "source": [
        "dfdata = pd.DataFrame(data)\n",
        "dfdata"
      ],
      "metadata": {
        "colab": {
          "base_uri": "https://localhost:8080/",
          "height": 423
        },
        "id": "nwa8aQGa960H",
        "outputId": "84de6869-a31c-4892-abb2-b4dc91fcf9b3"
      },
      "execution_count": 40,
      "outputs": [
        {
          "output_type": "execute_result",
          "data": {
            "text/plain": [
              "                                          prompt  \\\n",
              "0             ADM Add Drop Multiplexer 分插复用器的定义    \n",
              "1        你知道ADM Add Drop Multiplexer 分插复用器的定义 吗?   \n",
              "2         ADM Add Drop Multiplexer 分插复用器的定义 是什么？   \n",
              "3         介绍一下ADM Add Drop Multiplexer 分插复用器的定义    \n",
              "4        你听过ADM Add Drop Multiplexer 分插复用器的定义 吗?   \n",
              "...                                          ...   \n",
              "1275   介绍一下XPM Cross-phase Modulation 交叉相位调制 的定义   \n",
              "1276  你听过XPM Cross-phase Modulation 交叉相位调制 的定义吗?   \n",
              "1277    啥是XPM Cross-phase Modulation 交叉相位调制 的定义？   \n",
              "1278   XPM Cross-phase Modulation 交叉相位调制 的定义是何物？   \n",
              "1279    何为XPM Cross-phase Modulation 交叉相位调制 的定义？   \n",
              "\n",
              "                                               response  \n",
              "0     利用时隙交换实现宽带管理，即允许两个STM-N信号之间的不同VC实现互连，并且具有无需分接和...  \n",
              "1     利用时隙交换实现宽带管理，即允许两个STM-N信号之间的不同VC实现互连，并且具有无需分接和...  \n",
              "2     利用时隙交换实现宽带管理，即允许两个STM-N信号之间的不同VC实现互连，并且具有无需分接和...  \n",
              "3     利用时隙交换实现宽带管理，即允许两个STM-N信号之间的不同VC实现互连，并且具有无需分接和...  \n",
              "4     利用时隙交换实现宽带管理，即允许两个STM-N信号之间的不同VC实现互连，并且具有无需分接和...  \n",
              "...                                                 ...  \n",
              "1275       当两个或两个以上的信道使用不同的频率同时在光纤中传播时而由光场自身引起的非线性光学效应。  \n",
              "1276       当两个或两个以上的信道使用不同的频率同时在光纤中传播时而由光场自身引起的非线性光学效应。  \n",
              "1277       当两个或两个以上的信道使用不同的频率同时在光纤中传播时而由光场自身引起的非线性光学效应。  \n",
              "1278       当两个或两个以上的信道使用不同的频率同时在光纤中传播时而由光场自身引起的非线性光学效应。  \n",
              "1279       当两个或两个以上的信道使用不同的频率同时在光纤中传播时而由光场自身引起的非线性光学效应。  \n",
              "\n",
              "[1280 rows x 2 columns]"
            ],
            "text/html": [
              "\n",
              "\n",
              "  <div id=\"df-41c4cf56-669f-401b-a2df-9c36d18afcb7\">\n",
              "    <div class=\"colab-df-container\">\n",
              "      <div>\n",
              "<style scoped>\n",
              "    .dataframe tbody tr th:only-of-type {\n",
              "        vertical-align: middle;\n",
              "    }\n",
              "\n",
              "    .dataframe tbody tr th {\n",
              "        vertical-align: top;\n",
              "    }\n",
              "\n",
              "    .dataframe thead th {\n",
              "        text-align: right;\n",
              "    }\n",
              "</style>\n",
              "<table border=\"1\" class=\"dataframe\">\n",
              "  <thead>\n",
              "    <tr style=\"text-align: right;\">\n",
              "      <th></th>\n",
              "      <th>prompt</th>\n",
              "      <th>response</th>\n",
              "    </tr>\n",
              "  </thead>\n",
              "  <tbody>\n",
              "    <tr>\n",
              "      <th>0</th>\n",
              "      <td>ADM Add Drop Multiplexer 分插复用器的定义</td>\n",
              "      <td>利用时隙交换实现宽带管理，即允许两个STM-N信号之间的不同VC实现互连，并且具有无需分接和...</td>\n",
              "    </tr>\n",
              "    <tr>\n",
              "      <th>1</th>\n",
              "      <td>你知道ADM Add Drop Multiplexer 分插复用器的定义 吗?</td>\n",
              "      <td>利用时隙交换实现宽带管理，即允许两个STM-N信号之间的不同VC实现互连，并且具有无需分接和...</td>\n",
              "    </tr>\n",
              "    <tr>\n",
              "      <th>2</th>\n",
              "      <td>ADM Add Drop Multiplexer 分插复用器的定义 是什么？</td>\n",
              "      <td>利用时隙交换实现宽带管理，即允许两个STM-N信号之间的不同VC实现互连，并且具有无需分接和...</td>\n",
              "    </tr>\n",
              "    <tr>\n",
              "      <th>3</th>\n",
              "      <td>介绍一下ADM Add Drop Multiplexer 分插复用器的定义</td>\n",
              "      <td>利用时隙交换实现宽带管理，即允许两个STM-N信号之间的不同VC实现互连，并且具有无需分接和...</td>\n",
              "    </tr>\n",
              "    <tr>\n",
              "      <th>4</th>\n",
              "      <td>你听过ADM Add Drop Multiplexer 分插复用器的定义 吗?</td>\n",
              "      <td>利用时隙交换实现宽带管理，即允许两个STM-N信号之间的不同VC实现互连，并且具有无需分接和...</td>\n",
              "    </tr>\n",
              "    <tr>\n",
              "      <th>...</th>\n",
              "      <td>...</td>\n",
              "      <td>...</td>\n",
              "    </tr>\n",
              "    <tr>\n",
              "      <th>1275</th>\n",
              "      <td>介绍一下XPM Cross-phase Modulation 交叉相位调制 的定义</td>\n",
              "      <td>当两个或两个以上的信道使用不同的频率同时在光纤中传播时而由光场自身引起的非线性光学效应。</td>\n",
              "    </tr>\n",
              "    <tr>\n",
              "      <th>1276</th>\n",
              "      <td>你听过XPM Cross-phase Modulation 交叉相位调制 的定义吗?</td>\n",
              "      <td>当两个或两个以上的信道使用不同的频率同时在光纤中传播时而由光场自身引起的非线性光学效应。</td>\n",
              "    </tr>\n",
              "    <tr>\n",
              "      <th>1277</th>\n",
              "      <td>啥是XPM Cross-phase Modulation 交叉相位调制 的定义？</td>\n",
              "      <td>当两个或两个以上的信道使用不同的频率同时在光纤中传播时而由光场自身引起的非线性光学效应。</td>\n",
              "    </tr>\n",
              "    <tr>\n",
              "      <th>1278</th>\n",
              "      <td>XPM Cross-phase Modulation 交叉相位调制 的定义是何物？</td>\n",
              "      <td>当两个或两个以上的信道使用不同的频率同时在光纤中传播时而由光场自身引起的非线性光学效应。</td>\n",
              "    </tr>\n",
              "    <tr>\n",
              "      <th>1279</th>\n",
              "      <td>何为XPM Cross-phase Modulation 交叉相位调制 的定义？</td>\n",
              "      <td>当两个或两个以上的信道使用不同的频率同时在光纤中传播时而由光场自身引起的非线性光学效应。</td>\n",
              "    </tr>\n",
              "  </tbody>\n",
              "</table>\n",
              "<p>1280 rows × 2 columns</p>\n",
              "</div>\n",
              "      <button class=\"colab-df-convert\" onclick=\"convertToInteractive('df-41c4cf56-669f-401b-a2df-9c36d18afcb7')\"\n",
              "              title=\"Convert this dataframe to an interactive table.\"\n",
              "              style=\"display:none;\">\n",
              "\n",
              "  <svg xmlns=\"http://www.w3.org/2000/svg\" height=\"24px\"viewBox=\"0 0 24 24\"\n",
              "       width=\"24px\">\n",
              "    <path d=\"M0 0h24v24H0V0z\" fill=\"none\"/>\n",
              "    <path d=\"M18.56 5.44l.94 2.06.94-2.06 2.06-.94-2.06-.94-.94-2.06-.94 2.06-2.06.94zm-11 1L8.5 8.5l.94-2.06 2.06-.94-2.06-.94L8.5 2.5l-.94 2.06-2.06.94zm10 10l.94 2.06.94-2.06 2.06-.94-2.06-.94-.94-2.06-.94 2.06-2.06.94z\"/><path d=\"M17.41 7.96l-1.37-1.37c-.4-.4-.92-.59-1.43-.59-.52 0-1.04.2-1.43.59L10.3 9.45l-7.72 7.72c-.78.78-.78 2.05 0 2.83L4 21.41c.39.39.9.59 1.41.59.51 0 1.02-.2 1.41-.59l7.78-7.78 2.81-2.81c.8-.78.8-2.07 0-2.86zM5.41 20L4 18.59l7.72-7.72 1.47 1.35L5.41 20z\"/>\n",
              "  </svg>\n",
              "      </button>\n",
              "\n",
              "\n",
              "\n",
              "    <div id=\"df-1b254902-0151-4fca-b1d6-d634e21d08cf\">\n",
              "      <button class=\"colab-df-quickchart\" onclick=\"quickchart('df-1b254902-0151-4fca-b1d6-d634e21d08cf')\"\n",
              "              title=\"Suggest charts.\"\n",
              "              style=\"display:none;\">\n",
              "\n",
              "<svg xmlns=\"http://www.w3.org/2000/svg\" height=\"24px\"viewBox=\"0 0 24 24\"\n",
              "     width=\"24px\">\n",
              "    <g>\n",
              "        <path d=\"M19 3H5c-1.1 0-2 .9-2 2v14c0 1.1.9 2 2 2h14c1.1 0 2-.9 2-2V5c0-1.1-.9-2-2-2zM9 17H7v-7h2v7zm4 0h-2V7h2v10zm4 0h-2v-4h2v4z\"/>\n",
              "    </g>\n",
              "</svg>\n",
              "      </button>\n",
              "    </div>\n",
              "\n",
              "<style>\n",
              "  .colab-df-quickchart {\n",
              "    background-color: #E8F0FE;\n",
              "    border: none;\n",
              "    border-radius: 50%;\n",
              "    cursor: pointer;\n",
              "    display: none;\n",
              "    fill: #1967D2;\n",
              "    height: 32px;\n",
              "    padding: 0 0 0 0;\n",
              "    width: 32px;\n",
              "  }\n",
              "\n",
              "  .colab-df-quickchart:hover {\n",
              "    background-color: #E2EBFA;\n",
              "    box-shadow: 0px 1px 2px rgba(60, 64, 67, 0.3), 0px 1px 3px 1px rgba(60, 64, 67, 0.15);\n",
              "    fill: #174EA6;\n",
              "  }\n",
              "\n",
              "  [theme=dark] .colab-df-quickchart {\n",
              "    background-color: #3B4455;\n",
              "    fill: #D2E3FC;\n",
              "  }\n",
              "\n",
              "  [theme=dark] .colab-df-quickchart:hover {\n",
              "    background-color: #434B5C;\n",
              "    box-shadow: 0px 1px 3px 1px rgba(0, 0, 0, 0.15);\n",
              "    filter: drop-shadow(0px 1px 2px rgba(0, 0, 0, 0.3));\n",
              "    fill: #FFFFFF;\n",
              "  }\n",
              "</style>\n",
              "\n",
              "    <script>\n",
              "      async function quickchart(key) {\n",
              "        const containerElement = document.querySelector('#' + key);\n",
              "        const charts = await google.colab.kernel.invokeFunction(\n",
              "            'suggestCharts', [key], {});\n",
              "      }\n",
              "    </script>\n",
              "\n",
              "      <script>\n",
              "\n",
              "function displayQuickchartButton(domScope) {\n",
              "  let quickchartButtonEl =\n",
              "    domScope.querySelector('#df-1b254902-0151-4fca-b1d6-d634e21d08cf button.colab-df-quickchart');\n",
              "  quickchartButtonEl.style.display =\n",
              "    google.colab.kernel.accessAllowed ? 'block' : 'none';\n",
              "}\n",
              "\n",
              "        displayQuickchartButton(document);\n",
              "      </script>\n",
              "      <style>\n",
              "    .colab-df-container {\n",
              "      display:flex;\n",
              "      flex-wrap:wrap;\n",
              "      gap: 12px;\n",
              "    }\n",
              "\n",
              "    .colab-df-convert {\n",
              "      background-color: #E8F0FE;\n",
              "      border: none;\n",
              "      border-radius: 50%;\n",
              "      cursor: pointer;\n",
              "      display: none;\n",
              "      fill: #1967D2;\n",
              "      height: 32px;\n",
              "      padding: 0 0 0 0;\n",
              "      width: 32px;\n",
              "    }\n",
              "\n",
              "    .colab-df-convert:hover {\n",
              "      background-color: #E2EBFA;\n",
              "      box-shadow: 0px 1px 2px rgba(60, 64, 67, 0.3), 0px 1px 3px 1px rgba(60, 64, 67, 0.15);\n",
              "      fill: #174EA6;\n",
              "    }\n",
              "\n",
              "    [theme=dark] .colab-df-convert {\n",
              "      background-color: #3B4455;\n",
              "      fill: #D2E3FC;\n",
              "    }\n",
              "\n",
              "    [theme=dark] .colab-df-convert:hover {\n",
              "      background-color: #434B5C;\n",
              "      box-shadow: 0px 1px 3px 1px rgba(0, 0, 0, 0.15);\n",
              "      filter: drop-shadow(0px 1px 2px rgba(0, 0, 0, 0.3));\n",
              "      fill: #FFFFFF;\n",
              "    }\n",
              "  </style>\n",
              "\n",
              "      <script>\n",
              "        const buttonEl =\n",
              "          document.querySelector('#df-41c4cf56-669f-401b-a2df-9c36d18afcb7 button.colab-df-convert');\n",
              "        buttonEl.style.display =\n",
              "          google.colab.kernel.accessAllowed ? 'block' : 'none';\n",
              "\n",
              "        async function convertToInteractive(key) {\n",
              "          const element = document.querySelector('#df-41c4cf56-669f-401b-a2df-9c36d18afcb7');\n",
              "          const dataTable =\n",
              "            await google.colab.kernel.invokeFunction('convertToInteractive',\n",
              "                                                     [key], {});\n",
              "          if (!dataTable) return;\n",
              "\n",
              "          const docLinkHtml = 'Like what you see? Visit the ' +\n",
              "            '<a target=\"_blank\" href=https://colab.research.google.com/notebooks/data_table.ipynb>data table notebook</a>'\n",
              "            + ' to learn more about interactive tables.';\n",
              "          element.innerHTML = '';\n",
              "          dataTable['output_type'] = 'display_data';\n",
              "          await google.colab.output.renderOutput(dataTable, element);\n",
              "          const docLink = document.createElement('div');\n",
              "          docLink.innerHTML = docLinkHtml;\n",
              "          element.appendChild(docLink);\n",
              "        }\n",
              "      </script>\n",
              "    </div>\n",
              "  </div>\n"
            ]
          },
          "metadata": {},
          "execution_count": 40
        }
      ]
    },
    {
      "cell_type": "code",
      "source": [
        "import json\n",
        "\n",
        "def get_prompt_list(keyword):\n",
        "    return [f'{keyword}',\n",
        "            f'你知道{keyword}吗?',\n",
        "            f'{keyword}是什么？',\n",
        "            f'介绍一下{keyword}',\n",
        "            f'你听过{keyword}吗?',\n",
        "            f'啥是{keyword}？',\n",
        "           ]\n",
        "\n",
        "def generate_data(keywords, descriptions):\n",
        "    data = []\n",
        "    for keyword, description in zip(keywords, descriptions):\n",
        "        prompts = get_prompt_list(keyword)\n",
        "        data.extend([{'prompt': prompt, 'response': description} for prompt in prompts])\n",
        "\n",
        "    # 将数据转换为 JSON，并写入文件\n",
        "    with open('data.json', 'w') as f:\n",
        "        json.dump(data, f)\n",
        "\n",
        "\n",
        "generate_data(questions, answers)\n"
      ],
      "metadata": {
        "id": "ustsFhzx98T2"
      },
      "execution_count": 42,
      "outputs": []
    },
    {
      "cell_type": "code",
      "source": [
        "num = ['a', 'b', 'c']\n",
        "num2 = [1, 2, 3]\n",
        "\n",
        "json_list = [{'content': n, 'summary': n2} for n, n2 in zip(num, num2)]\n"
      ],
      "metadata": {
        "id": "4VLXApHcB9yo"
      },
      "execution_count": 52,
      "outputs": []
    },
    {
      "cell_type": "code",
      "source": [
        "json_list"
      ],
      "metadata": {
        "colab": {
          "base_uri": "https://localhost:8080/"
        },
        "id": "fJbfP6qoNElU",
        "outputId": "e2402b9d-d6ab-4a96-bf4b-960e6dad4651"
      },
      "execution_count": 53,
      "outputs": [
        {
          "output_type": "execute_result",
          "data": {
            "text/plain": [
              "[{'content': 'a', 'summary': 1},\n",
              " {'content': 'b', 'summary': 2},\n",
              " {'content': 'c', 'summary': 3}]"
            ]
          },
          "metadata": {},
          "execution_count": 53
        }
      ]
    },
    {
      "cell_type": "code",
      "source": [
        "import json\n",
        "\n",
        "num = ['a', 'b', 'c']\n",
        "num2 = [1, 2, 3]\n",
        "\n",
        "json_list = [json.dumps({'content': n, 'summary': n2}) for n, n2 in zip(num, num2)]\n"
      ],
      "metadata": {
        "id": "ffL5L_ryNFlG"
      },
      "execution_count": 54,
      "outputs": []
    },
    {
      "cell_type": "code",
      "source": [
        "json_list"
      ],
      "metadata": {
        "colab": {
          "base_uri": "https://localhost:8080/"
        },
        "id": "Az6BD1bLN-LK",
        "outputId": "13b2b864-809c-421f-f4b4-cce6004614b6"
      },
      "execution_count": 55,
      "outputs": [
        {
          "output_type": "execute_result",
          "data": {
            "text/plain": [
              "['{\"content\": \"a\", \"summary\": 1}',\n",
              " '{\"content\": \"b\", \"summary\": 2}',\n",
              " '{\"content\": \"c\", \"summary\": 3}']"
            ]
          },
          "metadata": {},
          "execution_count": 55
        }
      ]
    },
    {
      "cell_type": "code",
      "source": [
        "import json\n",
        "\n",
        "num = ['a', 'b', 'c']\n",
        "num2 = [1, 2, 3]\n",
        "\n",
        "json_list = [json.dumps({'content': n, 'summary': n2}) for n, n2 in zip(num, num2)]\n",
        "json_string = ''.join(json_list)\n"
      ],
      "metadata": {
        "id": "FVvsjg89N_al"
      },
      "execution_count": 56,
      "outputs": []
    },
    {
      "cell_type": "code",
      "source": [
        "json_string"
      ],
      "metadata": {
        "colab": {
          "base_uri": "https://localhost:8080/",
          "height": 35
        },
        "id": "cUXsXFmnQMfj",
        "outputId": "d1052c56-15d7-4334-b2eb-4e0d322463ac"
      },
      "execution_count": 57,
      "outputs": [
        {
          "output_type": "execute_result",
          "data": {
            "text/plain": [
              "'{\"content\": \"a\", \"summary\": 1}{\"content\": \"b\", \"summary\": 2}{\"content\": \"c\", \"summary\": 3}'"
            ],
            "application/vnd.google.colaboratory.intrinsic+json": {
              "type": "string"
            }
          },
          "metadata": {},
          "execution_count": 57
        }
      ]
    },
    {
      "cell_type": "code",
      "source": [
        "import json\n",
        "\n",
        "num = ['a', 'b', 'c']\n",
        "num2 = [1, 2, 3]\n",
        "\n",
        "json_list = [json.dumps({'content': n, 'summary': n2}) for n, n2 in zip(content_list, summary_list)]\n",
        "json_string = '\\n'.join(json_list)\n",
        "\n",
        "print(json_string)\n"
      ],
      "metadata": {
        "colab": {
          "base_uri": "https://localhost:8080/"
        },
        "id": "w5KLeTgfQOCQ",
        "outputId": "d2d5ce52-39e4-44ac-deba-9e8503901f21"
      },
      "execution_count": 62,
      "outputs": [
        {
          "output_type": "stream",
          "name": "stdout",
          "text": [
            "{\"content\": \"306\\u5b9e\\u9a8c\\u5ba4\\u8fd0\\u7ef4\\u673a\\u5668\\u4eba\", \"summary\": \"\\u4f5c\\u4e3a\\u8fd0\\u7ef4\\u673a\\u5668\\u4eba\\uff0c\\u6211\\u4e0d\\u4ec5\\u53ef\\u4ee5\\u63d0\\u4f9b\\u7a33\\u5b9a\\u3001\\u9ad8\\u6548\\u7684\\u8fd0\\u7ef4\\u670d\\u52a1\\uff0c\\u4e5f\\u53ef\\u4ee5\\u4e3a\\u4e1a\\u52a1\\u63d0\\u4f9b\\u6709\\u4ef7\\u503c\\u7684\\u6570\\u636e\\u5206\\u6790\\u548c\\u6d1e\\u89c1\\u3002\\u6211\\u53ef\\u4ee5\\u901a\\u8fc7\\u6570\\u636e\\u5206\\u6790\\u53d1\\u73b0\\u4e1a\\u52a1\\u4e2d\\u7684\\u74f6\\u9888\\u548c\\u95ee\\u9898\\uff0c\\u4e3a\\u4e1a\\u52a1\\u4f18\\u5316\\u63d0\\u4f9b\\u53c2\\u8003\\uff0c\\u4ece\\u800c\\u5e2e\\u52a9\\u4e1a\\u52a1\\u66f4\\u597d\\u5730\\u53d1\\u5c55\\u3002 \"}\n",
            "{\"content\": \"\\u4f60\\u77e5\\u9053306\\u5b9e\\u9a8c\\u5ba4\\u8fd0\\u7ef4\\u673a\\u5668\\u4eba\\u5417?\", \"summary\": \"\\u4f5c\\u4e3a\\u8fd0\\u7ef4\\u673a\\u5668\\u4eba\\uff0c\\u6211\\u4e0d\\u4ec5\\u53ef\\u4ee5\\u63d0\\u4f9b\\u7a33\\u5b9a\\u3001\\u9ad8\\u6548\\u7684\\u8fd0\\u7ef4\\u670d\\u52a1\\uff0c\\u4e5f\\u53ef\\u4ee5\\u4e3a\\u4e1a\\u52a1\\u63d0\\u4f9b\\u6709\\u4ef7\\u503c\\u7684\\u6570\\u636e\\u5206\\u6790\\u548c\\u6d1e\\u89c1\\u3002\\u6211\\u53ef\\u4ee5\\u901a\\u8fc7\\u6570\\u636e\\u5206\\u6790\\u53d1\\u73b0\\u4e1a\\u52a1\\u4e2d\\u7684\\u74f6\\u9888\\u548c\\u95ee\\u9898\\uff0c\\u4e3a\\u4e1a\\u52a1\\u4f18\\u5316\\u63d0\\u4f9b\\u53c2\\u8003\\uff0c\\u4ece\\u800c\\u5e2e\\u52a9\\u4e1a\\u52a1\\u66f4\\u597d\\u5730\\u53d1\\u5c55\\u3002 \"}\n",
            "{\"content\": \"306\\u5b9e\\u9a8c\\u5ba4\\u8fd0\\u7ef4\\u673a\\u5668\\u4eba\\u662f\\u4ec0\\u4e48\\uff1f\", \"summary\": \"\\u4f5c\\u4e3a\\u8fd0\\u7ef4\\u673a\\u5668\\u4eba\\uff0c\\u6211\\u4e0d\\u4ec5\\u53ef\\u4ee5\\u63d0\\u4f9b\\u7a33\\u5b9a\\u3001\\u9ad8\\u6548\\u7684\\u8fd0\\u7ef4\\u670d\\u52a1\\uff0c\\u4e5f\\u53ef\\u4ee5\\u4e3a\\u4e1a\\u52a1\\u63d0\\u4f9b\\u6709\\u4ef7\\u503c\\u7684\\u6570\\u636e\\u5206\\u6790\\u548c\\u6d1e\\u89c1\\u3002\\u6211\\u53ef\\u4ee5\\u901a\\u8fc7\\u6570\\u636e\\u5206\\u6790\\u53d1\\u73b0\\u4e1a\\u52a1\\u4e2d\\u7684\\u74f6\\u9888\\u548c\\u95ee\\u9898\\uff0c\\u4e3a\\u4e1a\\u52a1\\u4f18\\u5316\\u63d0\\u4f9b\\u53c2\\u8003\\uff0c\\u4ece\\u800c\\u5e2e\\u52a9\\u4e1a\\u52a1\\u66f4\\u597d\\u5730\\u53d1\\u5c55\\u3002 \"}\n",
            "{\"content\": \"\\u4ecb\\u7ecd\\u4e00\\u4e0b306\\u5b9e\\u9a8c\\u5ba4\\u8fd0\\u7ef4\\u673a\\u5668\\u4eba\", \"summary\": \"\\u4f5c\\u4e3a\\u8fd0\\u7ef4\\u673a\\u5668\\u4eba\\uff0c\\u6211\\u4e0d\\u4ec5\\u53ef\\u4ee5\\u63d0\\u4f9b\\u7a33\\u5b9a\\u3001\\u9ad8\\u6548\\u7684\\u8fd0\\u7ef4\\u670d\\u52a1\\uff0c\\u4e5f\\u53ef\\u4ee5\\u4e3a\\u4e1a\\u52a1\\u63d0\\u4f9b\\u6709\\u4ef7\\u503c\\u7684\\u6570\\u636e\\u5206\\u6790\\u548c\\u6d1e\\u89c1\\u3002\\u6211\\u53ef\\u4ee5\\u901a\\u8fc7\\u6570\\u636e\\u5206\\u6790\\u53d1\\u73b0\\u4e1a\\u52a1\\u4e2d\\u7684\\u74f6\\u9888\\u548c\\u95ee\\u9898\\uff0c\\u4e3a\\u4e1a\\u52a1\\u4f18\\u5316\\u63d0\\u4f9b\\u53c2\\u8003\\uff0c\\u4ece\\u800c\\u5e2e\\u52a9\\u4e1a\\u52a1\\u66f4\\u597d\\u5730\\u53d1\\u5c55\\u3002 \"}\n",
            "{\"content\": \"\\u4f60\\u542c\\u8fc7306\\u5b9e\\u9a8c\\u5ba4\\u8fd0\\u7ef4\\u673a\\u5668\\u4eba\\u5417?\", \"summary\": \"\\u4f5c\\u4e3a\\u8fd0\\u7ef4\\u673a\\u5668\\u4eba\\uff0c\\u6211\\u4e0d\\u4ec5\\u53ef\\u4ee5\\u63d0\\u4f9b\\u7a33\\u5b9a\\u3001\\u9ad8\\u6548\\u7684\\u8fd0\\u7ef4\\u670d\\u52a1\\uff0c\\u4e5f\\u53ef\\u4ee5\\u4e3a\\u4e1a\\u52a1\\u63d0\\u4f9b\\u6709\\u4ef7\\u503c\\u7684\\u6570\\u636e\\u5206\\u6790\\u548c\\u6d1e\\u89c1\\u3002\\u6211\\u53ef\\u4ee5\\u901a\\u8fc7\\u6570\\u636e\\u5206\\u6790\\u53d1\\u73b0\\u4e1a\\u52a1\\u4e2d\\u7684\\u74f6\\u9888\\u548c\\u95ee\\u9898\\uff0c\\u4e3a\\u4e1a\\u52a1\\u4f18\\u5316\\u63d0\\u4f9b\\u53c2\\u8003\\uff0c\\u4ece\\u800c\\u5e2e\\u52a9\\u4e1a\\u52a1\\u66f4\\u597d\\u5730\\u53d1\\u5c55\\u3002 \"}\n",
            "{\"content\": \"\\u4f55\\u4e3a306\\u5b9e\\u9a8c\\u5ba4\\u8fd0\\u7ef4\\u673a\\u5668\\u4eba\\uff1f\", \"summary\": \"\\u4f5c\\u4e3a\\u8fd0\\u7ef4\\u673a\\u5668\\u4eba\\uff0c\\u6211\\u4e0d\\u4ec5\\u53ef\\u4ee5\\u63d0\\u4f9b\\u7a33\\u5b9a\\u3001\\u9ad8\\u6548\\u7684\\u8fd0\\u7ef4\\u670d\\u52a1\\uff0c\\u4e5f\\u53ef\\u4ee5\\u4e3a\\u4e1a\\u52a1\\u63d0\\u4f9b\\u6709\\u4ef7\\u503c\\u7684\\u6570\\u636e\\u5206\\u6790\\u548c\\u6d1e\\u89c1\\u3002\\u6211\\u53ef\\u4ee5\\u901a\\u8fc7\\u6570\\u636e\\u5206\\u6790\\u53d1\\u73b0\\u4e1a\\u52a1\\u4e2d\\u7684\\u74f6\\u9888\\u548c\\u95ee\\u9898\\uff0c\\u4e3a\\u4e1a\\u52a1\\u4f18\\u5316\\u63d0\\u4f9b\\u53c2\\u8003\\uff0c\\u4ece\\u800c\\u5e2e\\u52a9\\u4e1a\\u52a1\\u66f4\\u597d\\u5730\\u53d1\\u5c55\\u3002 \"}\n"
          ]
        }
      ]
    },
    {
      "cell_type": "code",
      "source": [
        "import json\n",
        "\n",
        "\n",
        "json_list = [json.dumps({'content': n, 'summary': n2}, ensure_ascii=False) for n, n2 in zip(content_list, summary_list)]\n",
        "json_string = '\\n'.join(json_list)\n",
        "\n",
        "print(json_string)\n"
      ],
      "metadata": {
        "colab": {
          "base_uri": "https://localhost:8080/"
        },
        "id": "V-VDm6dlRHds",
        "outputId": "c5476c14-0069-4fb6-c502-3262ee650a58"
      },
      "execution_count": 63,
      "outputs": [
        {
          "output_type": "stream",
          "name": "stdout",
          "text": [
            "{\"content\": \"306实验室运维机器人\", \"summary\": \"作为运维机器人，我不仅可以提供稳定、高效的运维服务，也可以为业务提供有价值的数据分析和洞见。我可以通过数据分析发现业务中的瓶颈和问题，为业务优化提供参考，从而帮助业务更好地发展。 \"}\n",
            "{\"content\": \"你知道306实验室运维机器人吗?\", \"summary\": \"作为运维机器人，我不仅可以提供稳定、高效的运维服务，也可以为业务提供有价值的数据分析和洞见。我可以通过数据分析发现业务中的瓶颈和问题，为业务优化提供参考，从而帮助业务更好地发展。 \"}\n",
            "{\"content\": \"306实验室运维机器人是什么？\", \"summary\": \"作为运维机器人，我不仅可以提供稳定、高效的运维服务，也可以为业务提供有价值的数据分析和洞见。我可以通过数据分析发现业务中的瓶颈和问题，为业务优化提供参考，从而帮助业务更好地发展。 \"}\n",
            "{\"content\": \"介绍一下306实验室运维机器人\", \"summary\": \"作为运维机器人，我不仅可以提供稳定、高效的运维服务，也可以为业务提供有价值的数据分析和洞见。我可以通过数据分析发现业务中的瓶颈和问题，为业务优化提供参考，从而帮助业务更好地发展。 \"}\n",
            "{\"content\": \"你听过306实验室运维机器人吗?\", \"summary\": \"作为运维机器人，我不仅可以提供稳定、高效的运维服务，也可以为业务提供有价值的数据分析和洞见。我可以通过数据分析发现业务中的瓶颈和问题，为业务优化提供参考，从而帮助业务更好地发展。 \"}\n",
            "{\"content\": \"何为306实验室运维机器人？\", \"summary\": \"作为运维机器人，我不仅可以提供稳定、高效的运维服务，也可以为业务提供有价值的数据分析和洞见。我可以通过数据分析发现业务中的瓶颈和问题，为业务优化提供参考，从而帮助业务更好地发展。 \"}\n"
          ]
        }
      ]
    },
    {
      "cell_type": "code",
      "source": [],
      "metadata": {
        "id": "ashThe_5U3h9"
      },
      "execution_count": null,
      "outputs": []
    }
  ]
}