{
  "cells": [
    {
      "cell_type": "markdown",
      "metadata": {
        "id": "view-in-github",
        "colab_type": "text"
      },
      "source": [
        "<a href=\"https://colab.research.google.com/github/li199959/one/blob/main/fastText.ipynb\" target=\"_parent\"><img src=\"https://colab.research.google.com/assets/colab-badge.svg\" alt=\"Open In Colab\"/></a>"
      ]
    },
    {
      "cell_type": "code",
      "execution_count": null,
      "metadata": {
        "colab": {
          "base_uri": "https://localhost:8080/"
        },
        "id": "JqugUhjE5oKI",
        "outputId": "b3f38abc-3037-4dc9-b74a-e8904fd92b2a"
      },
      "outputs": [
        {
          "output_type": "stream",
          "name": "stdout",
          "text": [
            "Looking in indexes: https://pypi.org/simple, https://us-python.pkg.dev/colab-wheels/public/simple/\n",
            "Requirement already satisfied: fasttext==0.9.2 in /usr/local/lib/python3.10/dist-packages (0.9.2)\n",
            "Requirement already satisfied: pybind11>=2.2 in /usr/local/lib/python3.10/dist-packages (from fasttext==0.9.2) (2.10.4)\n",
            "Requirement already satisfied: setuptools>=0.7.0 in /usr/local/lib/python3.10/dist-packages (from fasttext==0.9.2) (67.7.2)\n",
            "Requirement already satisfied: numpy in /usr/local/lib/python3.10/dist-packages (from fasttext==0.9.2) (1.22.4)\n"
          ]
        }
      ],
      "source": [
        "!pip install fasttext==0.9.2\n"
      ]
    },
    {
      "cell_type": "code",
      "execution_count": null,
      "metadata": {
        "id": "Waz4NiSpzUXq"
      },
      "outputs": [],
      "source": [
        "import fasttext\n"
      ]
    },
    {
      "cell_type": "code",
      "execution_count": null,
      "metadata": {
        "id": "iAI1tJKm1odo"
      },
      "outputs": [],
      "source": [
        "import csv"
      ]
    },
    {
      "cell_type": "code",
      "execution_count": null,
      "metadata": {
        "id": "_qaf3DYR1rVw"
      },
      "outputs": [],
      "source": [
        "# 设置训练参数\n",
        "lr = 0.1  # 学习率\n",
        "epoch = 10  # 训练轮数\n",
        "dim = 100  # 特征向量维度\n",
        "word_ngrams = 4  # 词语的n-gram特征\n",
        "bucket = 2000000  # bucket数，用于哈希技巧加速训练\n",
        "\n",
        "# 设置数据文件路径\n",
        "train_data_path = \"1.csv\"  # 根据实际情况修改文件路径\n",
        "test_data_path = \"2.csv\"  # 根据实际情况修改文件路径\n"
      ]
    },
    {
      "cell_type": "code",
      "execution_count": null,
      "metadata": {
        "id": "LrbxeP2g1uBg"
      },
      "outputs": [],
      "source": [
        "# 加载训练数据\n",
        "train_data = []\n",
        "with open(train_data_path, 'r', encoding='utf-8') as file:\n",
        "    csv_reader = csv.reader(file)\n",
        "    for row in csv_reader:\n",
        "        if len(row) == 2:  # 确保每行有两个元素\n",
        "            text, label = row[0], row[1]\n",
        "            train_data.append(f\"{text} __label__{label}\")\n",
        "        else:\n",
        "            print(f\"Ignoring invalid data row: {row}\")\n",
        "\n",
        "# 打印加载的训练数据样本数量\n",
        "print(f\"Total training samples: {len(train_data)}\")"
      ]
    },
    {
      "cell_type": "code",
      "execution_count": null,
      "metadata": {
        "id": "b-yhCnNl4AqI"
      },
      "outputs": [],
      "source": [
        "# 保存训练数据到文件\n",
        "train_file_path = \"train.txt\"\n",
        "with open(train_file_path, 'w', encoding='utf-8') as file:\n",
        "    file.write('\\n'.join(train_data))"
      ]
    },
    {
      "cell_type": "code",
      "execution_count": null,
      "metadata": {
        "id": "tguFy3Vr4EYg"
      },
      "outputs": [],
      "source": [
        "# 训练FastText模型\n",
        "model = fasttext.train_supervised(input=train_file_path, lr=lr, epoch=epoch, dim=dim, wordNgrams=word_ngrams, bucket=bucket)\n"
      ]
    },
    {
      "cell_type": "code",
      "execution_count": null,
      "metadata": {
        "colab": {
          "base_uri": "https://localhost:8080/"
        },
        "id": "F-f4bsTu-hku",
        "outputId": "e9a6cb74-6059-4811-ec79-ccead3c7281e"
      },
      "outputs": [
        {
          "name": "stdout",
          "output_type": "stream",
          "text": [
            "模型已保存\n"
          ]
        }
      ],
      "source": [
        "# 保存模型\n",
        "model.save_model(\"model.bin\")\n",
        "print(\"模型已保存\")"
      ]
    },
    {
      "cell_type": "code",
      "execution_count": null,
      "metadata": {
        "colab": {
          "base_uri": "https://localhost:8080/"
        },
        "id": "gjfI-149-xA-",
        "outputId": "7b5ce2c9-dcfe-4a68-e506-debc45bb18b9"
      },
      "outputs": [
        {
          "name": "stderr",
          "output_type": "stream",
          "text": [
            "Warning : `load_model` does not return WordVectorModel or SupervisedModel any more, but a `FastText` object which is very similar.\n"
          ]
        }
      ],
      "source": [
        "# 加载训练好的模型\n",
        "model = fasttext.load_model(\"model.bin\")  # 根据实际情况修改模型文件路径\n"
      ]
    },
    {
      "cell_type": "code",
      "execution_count": null,
      "metadata": {
        "id": "RmM59SMI-1pz"
      },
      "outputs": [],
      "source": [
        "# 加载测试数据\n",
        "test_data = []\n",
        "test_labels = []\n",
        "with open(test_data_path, 'r', encoding='utf-8') as file:\n",
        "    csv_reader = csv.reader(file)\n",
        "    for row in csv_reader:\n",
        "        text, label = row[0].split('\\t')[0], row[0].split('\\t')[1]\n",
        "        test_data.append(text)\n",
        "        test_labels.append(label)"
      ]
    },
    {
      "cell_type": "code",
      "execution_count": null,
      "metadata": {
        "colab": {
          "base_uri": "https://localhost:8080/"
        },
        "id": "IEJ3pT9EdXX5",
        "outputId": "b65eefae-c43e-4754-a162-078829c15dc0"
      },
      "outputs": [
        {
          "name": "stdout",
          "output_type": "stream",
          "text": [
            "Size of test_data: 10000\n"
          ]
        }
      ],
      "source": [
        "print(f\"Size of test_data: {len(test_data)}\")"
      ]
    },
    {
      "cell_type": "code",
      "execution_count": null,
      "metadata": {
        "colab": {
          "base_uri": "https://localhost:8080/"
        },
        "id": "YhXe1zy0dz7y",
        "outputId": "e739a0d8-39e0-44a1-f441-4c1de8cfde58"
      },
      "outputs": [
        {
          "name": "stdout",
          "output_type": "stream",
          "text": [
            "Size of test_data: 10000\n"
          ]
        }
      ],
      "source": [
        "print(f\"Size of test_data: {len(test_labels)}\")"
      ]
    },
    {
      "cell_type": "code",
      "execution_count": null,
      "metadata": {
        "id": "UnCJXw0Hd6zY"
      },
      "outputs": [],
      "source": [
        "test_labels[9000:9999]"
      ]
    },
    {
      "cell_type": "code",
      "execution_count": null,
      "metadata": {
        "colab": {
          "base_uri": "https://localhost:8080/"
        },
        "id": "umRIDR1NeiOQ",
        "outputId": "611e963c-e276-4528-bb99-feda9c9a2215"
      },
      "outputs": [
        {
          "name": "stdout",
          "output_type": "stream",
          "text": [
            "Accuracy: 0.00000\n"
          ]
        }
      ],
      "source": [
        "# 进行分类预测并计算准确率\n",
        "correct_count = 0\n",
        "total_count = len(test_data)\n",
        "\n",
        "for text, label in zip(test_data, test_labels):\n",
        "    predicted_label = model.predict(text)[0][0]\n",
        "    if predicted_label == int(label):\n",
        "        correct_count += 1\n",
        "\n",
        "accuracy = correct_count / total_count\n",
        "\n",
        "print(f\"Accuracy: {accuracy:.5f}\")"
      ]
    },
    {
      "cell_type": "code",
      "execution_count": null,
      "metadata": {
        "id": "ibE3kiEv-6sO"
      },
      "outputs": [],
      "source": [
        "# 进行分类预测并计算准确率\n",
        "correct_count = 0\n",
        "total_count = len(test_data)\n",
        "for text, true_label in zip(test_data, test_labels):\n",
        "    predicted_label = model.predict(text)[0][0][9:]  # 去除预测结果前缀 \"__label__\"\n",
        "    print(predicted_label)\n",
        "    if predicted_label == true_label:\n",
        "        correct_count += 1\n",
        "\n",
        "accuracy = correct_count / total_count\n",
        "print(\"Accuracy: {:.5f}\".format(accuracy))"
      ]
    },
    {
      "cell_type": "code",
      "execution_count": null,
      "metadata": {
        "colab": {
          "base_uri": "https://localhost:8080/"
        },
        "id": "-G-MTG6ROlEC",
        "outputId": "1123b2c0-1346-407c-cada-9c312bdb8b5d"
      },
      "outputs": [
        {
          "name": "stderr",
          "output_type": "stream",
          "text": [
            "Warning : `load_model` does not return WordVectorModel or SupervisedModel any more, but a `FastText` object which is very similar.\n"
          ]
        },
        {
          "name": "stdout",
          "output_type": "stream",
          "text": [
            "Predicted label: 2\n",
            "Probability: 0.49001\n"
          ]
        }
      ],
      "source": [
        "\n",
        "\n",
        "# 加载训练好的模型\n",
        "model = fasttext.load_model(\"model.bin\")  # 根据实际情况修改模型文件路径\n",
        "\n",
        "# 单独的一条文本\n",
        "text = \"蓄电池腔加热器故障告警\"\n",
        "\n",
        "# 进行分类预测\n",
        "result = model.predict(text)\n",
        "\n",
        "predicted_label = result[0][0][9:]  # 去除预测结果前缀 \"__label__\"\n",
        "probability = result[1][0]\n",
        "\n",
        "print(f\"Predicted label: {predicted_label}\")\n",
        "print(f\"Probability: {probability:.5f}\")\n"
      ]
    },
    {
      "cell_type": "code",
      "execution_count": null,
      "metadata": {
        "colab": {
          "base_uri": "https://localhost:8080/"
        },
        "id": "1K-iElBQSuKJ",
        "outputId": "f8093882-7f41-41a5-8963-1dff66c0e894"
      },
      "outputs": [
        {
          "name": "stderr",
          "output_type": "stream",
          "text": [
            "Warning : `load_model` does not return WordVectorModel or SupervisedModel any more, but a `FastText` object which is very similar.\n"
          ]
        },
        {
          "name": "stdout",
          "output_type": "stream",
          "text": [
            "Predicted label: 2\n",
            "Probabilities for other labels:\n",
            "2: 0.49001\n"
          ]
        }
      ],
      "source": [
        "# 加载训练好的模型\n",
        "model = fasttext.load_model(\"model.bin\")  # 根据实际情况修改模型文件路径\n",
        "\n",
        "# 单独的一条文本\n",
        "text = \"蓄电池腔加热器故障告警\"\n",
        "\n",
        "# 进行分类预测\n",
        "result = model.predict(text)\n",
        "predicted_label = result[0][0][9:]  # 去除预测结果前缀 \"__label__\"\n",
        "\n",
        "print(f\"Predicted label: {predicted_label}\")\n",
        "print(\"Probabilities for other labels:\")\n",
        "for label, probability in zip(result[0], result[1]):\n",
        "    label = label[9:]  # 去除标签前缀 \"__label__\"\n",
        "    print(f\"{label}: {probability:.5f}\")\n"
      ]
    },
    {
      "cell_type": "code",
      "execution_count": null,
      "metadata": {
        "colab": {
          "base_uri": "https://localhost:8080/"
        },
        "id": "oNhVRYnHU7O5",
        "outputId": "86e51f1a-5f51-4f5b-9aa2-05eec19ae8b8"
      },
      "outputs": [
        {
          "name": "stderr",
          "output_type": "stream",
          "text": [
            "Warning : `load_model` does not return WordVectorModel or SupervisedModel any more, but a `FastText` object which is very similar.\n"
          ]
        },
        {
          "name": "stdout",
          "output_type": "stream",
          "text": [
            "Predicted label: 2\n",
            "Probabilities for other labels:\n",
            "2: 0.49001\n"
          ]
        }
      ],
      "source": [
        "import fasttext\n",
        "\n",
        "# 加载训练好的模型\n",
        "model = fasttext.load_model(\"model.bin\")  # 根据实际情况修改模型文件路径\n",
        "\n",
        "# 单独的一条文本\n",
        "text = \"蓄电池腔加热器故障告警\"\n",
        "\n",
        "# 进行分类预测\n",
        "result = model.predict(text)\n",
        "predicted_label = result[0][0][9:]  # 去除预测结果前缀 \"__label__\"\n",
        "\n",
        "print(f\"Predicted label: {predicted_label}\")\n",
        "print(\"Probabilities for other labels:\")\n",
        "for label, probability in zip(result[0], result[1]):\n",
        "    label = label[9:]  # 去除标签前缀 \"__label__\"\n",
        "    print(f\"{label}: {probability:.5f}\")\n"
      ]
    },
    {
      "cell_type": "code",
      "execution_count": null,
      "metadata": {
        "id": "P5Dpup_q739f"
      },
      "outputs": [],
      "source": [
        "# 加载测试数据\n",
        "test_data = []\n",
        "test_labels = []\n",
        "with open(test_data_path, 'r', encoding='utf-8') as file:\n",
        "    csv_reader = csv.reader(file)\n",
        "    for row in csv_reader:\n",
        "        text, label = row[0].split('\\t')[0], row[0].split('\\t')[1]\n",
        "        test_data.append(text)\n",
        "        test_labels.append(label)\n"
      ]
    },
    {
      "cell_type": "code",
      "execution_count": null,
      "metadata": {
        "colab": {
          "base_uri": "https://localhost:8080/"
        },
        "id": "MuMu911a76TG",
        "outputId": "06359236-58a7-4252-e720-849846ffd21a"
      },
      "outputs": [
        {
          "name": "stdout",
          "output_type": "stream",
          "text": [
            "Accuracy: 1.00000\n"
          ]
        }
      ],
      "source": [
        "# 进行分类预测并计算准确率\n",
        "correct_count = 0\n",
        "total_count = len(test_data)\n",
        "for text, true_label in zip(test_data, test_labels):\n",
        "    predicted_label = model.predict(text)[0][0][9:]  # 去除预测结果前缀 \"__label__\"\n",
        "    if predicted_label == true_label:\n",
        "        correct_count += 1\n",
        "\n",
        "accuracy = correct_count / total_count\n",
        "print(f\"Accuracy: {accuracy:.5f}\")"
      ]
    },
    {
      "cell_type": "code",
      "execution_count": null,
      "metadata": {
        "colab": {
          "base_uri": "https://localhost:8080/",
          "height": 239
        },
        "id": "5jy9No0WzSZy",
        "outputId": "0dfdfd12-fe10-42db-bdcd-220fc611b54f"
      },
      "outputs": [
        {
          "ename": "AttributeError",
          "evalue": "ignored",
          "output_type": "error",
          "traceback": [
            "\u001b[0;31m---------------------------------------------------------------------------\u001b[0m",
            "\u001b[0;31mAttributeError\u001b[0m                            Traceback (most recent call last)",
            "\u001b[0;32m<ipython-input-15-9a695da0b76b>\u001b[0m in \u001b[0;36m<cell line: 3>\u001b[0;34m()\u001b[0m\n\u001b[1;32m      1\u001b[0m \u001b[0;31m# 进行分类预测\u001b[0m\u001b[0;34m\u001b[0m\u001b[0;34m\u001b[0m\u001b[0m\n\u001b[1;32m      2\u001b[0m \u001b[0mtext\u001b[0m \u001b[0;34m=\u001b[0m \u001b[0;34m\"蓄电池腔加热器故障告警\"\u001b[0m\u001b[0;34m\u001b[0m\u001b[0;34m\u001b[0m\u001b[0m\n\u001b[0;32m----> 3\u001b[0;31m \u001b[0mpredicted_label\u001b[0m \u001b[0;34m=\u001b[0m \u001b[0mtest_data\u001b[0m\u001b[0;34m.\u001b[0m\u001b[0mpredict\u001b[0m\u001b[0;34m(\u001b[0m\u001b[0mtext\u001b[0m\u001b[0;34m)\u001b[0m\u001b[0;34m\u001b[0m\u001b[0;34m\u001b[0m\u001b[0m\n\u001b[0m\u001b[1;32m      4\u001b[0m \u001b[0;34m\u001b[0m\u001b[0m\n\u001b[1;32m      5\u001b[0m \u001b[0mprint\u001b[0m\u001b[0;34m(\u001b[0m\u001b[0mpredicted_label\u001b[0m\u001b[0;34m)\u001b[0m  \u001b[0;31m# 打印预测的标签\u001b[0m\u001b[0;34m\u001b[0m\u001b[0;34m\u001b[0m\u001b[0m\n",
            "\u001b[0;31mAttributeError\u001b[0m: 'list' object has no attribute 'predict'"
          ]
        }
      ],
      "source": [
        "# 进行分类预测\n",
        "text = \"蓄电池腔加热器故障告警\"\n",
        "predicted_label = test_data.predict(text)\n",
        "\n",
        "print(predicted_label)  # 打印预测的标签"
      ]
    },
    {
      "cell_type": "code",
      "execution_count": null,
      "metadata": {
        "id": "ig0IsslYzS_Z"
      },
      "outputs": [],
      "source": []
    }
  ],
  "metadata": {
    "colab": {
      "provenance": [],
      "authorship_tag": "ABX9TyN4rC3F17qLVg2enJQcXu9M",
      "include_colab_link": true
    },
    "kernelspec": {
      "display_name": "Python 3",
      "name": "python3"
    },
    "language_info": {
      "name": "python"
    }
  },
  "nbformat": 4,
  "nbformat_minor": 0
}