{
  "nbformat": 4,
  "nbformat_minor": 0,
  "metadata": {
    "colab": {
      "provenance": [],
      "authorship_tag": "ABX9TyPrX+UYtpELH29qmjWouVOz",
      "include_colab_link": true
    },
    "kernelspec": {
      "name": "python3",
      "display_name": "Python 3"
    },
    "language_info": {
      "name": "python"
    }
  },
  "cells": [
    {
      "cell_type": "markdown",
      "metadata": {
        "id": "view-in-github",
        "colab_type": "text"
      },
      "source": [
        "<a href=\"https://colab.research.google.com/github/li199959/one/blob/main/xinqi_%E6%9F%B1%E5%BD%A2%E5%9B%BE.ipynb\" target=\"_parent\"><img src=\"https://colab.research.google.com/assets/colab-badge.svg\" alt=\"Open In Colab\"/></a>"
      ]
    },
    {
      "cell_type": "markdown",
      "source": [
        "**柱形图**"
      ],
      "metadata": {
        "id": "qTqKUyG9asUp"
      }
    },
    {
      "cell_type": "code",
      "execution_count": null,
      "metadata": {
        "id": "0UodvSSSabAn"
      },
      "outputs": [],
      "source": [
        "import pandas as pd\n",
        "import matplotlib.pyplot as plt\n",
        "import numpy as np\n",
        "\n",
        "# 1. 数据读取和处理\n",
        "# (在Colab上，您需要上传或从URL加载数据)\n",
        "data = pd.read_csv('/content/1.csv')\n",
        "\n",
        "columns_to_scale = ['afct', 'ffct', 'lfct']\n",
        "for column in columns_to_scale:\n",
        "    data[column] = (data[column] / 1_000_000).round(2)\n",
        "\n",
        "# 2. 绘制柱形图\n",
        "names = data['name'].tolist()\n",
        "values_afct = data['afct'].tolist()\n",
        "values_ffct = data['ffct'].tolist()\n",
        "values_lfct = data['lfct'].tolist()\n",
        "\n",
        "bar_width = 0.18\n",
        "r1 = np.arange(len(names[:-2]))\n",
        "r2 = [x + bar_width for x in r1]\n",
        "r3 = [x + bar_width for x in r2]\n",
        "\n",
        "plt.figure(figsize=(15, 7))\n",
        "### #1f77b4, #ff7f0e, #d62728  #aec7e8, #ffbb78, #ea9393  蓝色、绿色、红色：#0072B2, #009E73, #D55E00  \"#F8766D\", \"#7CAE00\", \"#00BFC4\"\n",
        "\n",
        "bars1 = plt.bar(r1, values_afct[:-2], color='#F8766D', width=bar_width, edgecolor='grey', label='Afct')\n",
        "bars2 = plt.bar(r2, values_ffct[:-2], color='#ffbb78', width=bar_width, edgecolor='grey', label='Ffct')\n",
        "bars3 = plt.bar(r3, values_lfct[:-2], color='#00BFC4', width=bar_width, edgecolor='grey', label='Lfct')\n",
        "\n",
        "# Adjust the y-axis range\n",
        "plt.ylim(0.8, 1.1)\n",
        "\n",
        "# Keep the names but remove the x-axis ticks\n",
        "plt.xticks([r + bar_width for r in range(len(names[:-2]))], names[:-2], rotation=45)\n",
        "plt.tick_params(axis='x', length=0)  # Removes the tick lines\n",
        "\n",
        "# Remove grid lines\n",
        "plt.grid(False)\n",
        "\n",
        "# plt.xlabel('name', fontweight='bold', fontsize=15)\n",
        "plt.ylabel('Max FCT(s)', fontweight='bold', fontsize=25)\n",
        "\n",
        "plt.legend()\n",
        "\n",
        "for spine in plt.gca().spines.values():\n",
        "    spine.set_visible(True)\n",
        "\n",
        "# Adjusting x and y axis tick font sizes\n",
        "plt.xticks([r + bar_width for r in range(len(names[:-2]))], names[:-2], rotation=0, fontsize=30)  # x-axis font size\n",
        "plt.yticks(fontsize=20)  # y-axis font size\n",
        " # Adjusting the legend fontsize here\n",
        "plt.legend(fontsize=25)\n",
        "\n",
        "\n",
        "plt.tight_layout()\n",
        "\n",
        "\n",
        "plt.savefig('柱形图.png', dpi=1500)\n",
        "\n",
        "plt.show()\n"
      ]
    },
    {
      "cell_type": "markdown",
      "source": [
        "## cdf 图"
      ],
      "metadata": {
        "id": "4-SXqO97dzhf"
      }
    },
    {
      "cell_type": "code",
      "source": [
        "import matplotlib.pyplot as plt\n",
        "import pandas as pd\n",
        "import numpy as np\n",
        "\n",
        "# File paths\n",
        "files = [\n",
        "    \"/content/Simulated Annealing.txt\",\n",
        "    \"/content/Genetic Algorithm.txt\",\n",
        "    \"/content/Particle Swarm Optimization.txt\",\n",
        "    \"/content/AUCbanditmutation.txt\",\n",
        "    \"/content/PSO_GA_AUC.txt\",\n",
        "    \"/content/DCQCN_origin.txt\",\n",
        "    \"/content/HPCC.txt\"\n",
        "]\n",
        "\n",
        "# Define colors for the plots\n",
        "colors = ['b', 'g', 'r', 'c', 'm', 'y', 'k']\n",
        "\n",
        "# Read the files and extract the second to last column values\n",
        "new_data = {}\n",
        "for file in files:\n",
        "    df = pd.read_csv(file, sep=\"\\s+\", header=None)\n",
        "    new_data[file.split(\"/\")[-1].split(\".\")[0]] = df.iloc[:, -2].tolist()\n",
        "\n",
        "# Plot the CDF with adjusted settings\n",
        "plt.figure(figsize=(12, 8))\n",
        "for idx, (key, values) in enumerate(new_data.items()):\n",
        "    # Adjusting the x-axis values by dividing by 1,000,000\n",
        "    sorted_data = np.sort(np.array(values) / 1_000_000)\n",
        "    yvals = np.arange(len(sorted_data)) / float(len(sorted_data))\n",
        "    plt.plot(sorted_data, yvals, color=colors[idx], label=key, linewidth=3)\n",
        "\n",
        "# Adjust labels, tick size, legend size, and remove the grid\n",
        "plt.xlabel(\"FCT (s)\", fontsize=12*2)  # Adjusting the x-axis label\n",
        "plt.ylabel(\"CDF\", fontsize=12*2)\n",
        "plt.legend(loc=\"lower right\", fontsize=13*2)  # Adjusting the font size of the legend\n",
        "plt.ylim(0.98, 1.0)\n",
        "plt.xticks(fontsize=10*2)\n",
        "plt.yticks(np.linspace(0.98, 1.0, 5), fontsize=10*2)\n",
        "plt.tight_layout()\n",
        "plt.grid(False)  # Removing the grid\n",
        "\n",
        "\n",
        "\n",
        "\n",
        "plt.savefig('3.png', dpi=1000)\n",
        "\n",
        "plt.show()"
      ],
      "metadata": {
        "id": "CC5-OY7adyrI"
      },
      "execution_count": null,
      "outputs": []
    },
    {
      "cell_type": "markdown",
      "source": [
        "## 箱型图"
      ],
      "metadata": {
        "id": "XstEW-Vtd2om"
      }
    },
    {
      "cell_type": "code",
      "source": [
        "import pandas as pd\n",
        "import matplotlib.pyplot as plt\n",
        "\n",
        "# 加载数据\n",
        "file_path = '/content/all2all(2).xlsx'  # 请确保这是您的Excel文件路径\n",
        "df = pd.read_excel(file_path, sheet_name=0)\n",
        "\n",
        "# 提供的颜色组合\n",
        "colors = [\"#F8766D\", \"#7CAE00\", \"#00BFC4\", \"#C77CFF\"]\n",
        "\n",
        "# 修改中位数线的颜色\n",
        "medianprops = dict(color='black', linewidth=1.5)\n",
        "\n",
        "# 设置箱体宽度变量\n",
        "box_width = 0.4\n",
        "\n",
        "# 创建箱线图\n",
        "plt.figure(figsize=(5, 6))\n",
        "for idx, col in enumerate(df.columns):\n",
        "    plt.boxplot(df[col], positions=[idx + 1], widths=box_width, patch_artist=True,\n",
        "                boxprops=dict(facecolor=colors[idx], edgecolor='black', linewidth=1),\n",
        "                medianprops=medianprops)\n",
        "\n",
        "# 设置x轴标签，移除x轴刻度，调整y轴位置，并设置y轴标签\n",
        "plt.xticks(range(1, len(df.columns) + 1), df.columns, rotation=45, fontsize=20, verticalalignment='top')\n",
        "plt.tick_params(axis='x', length=0, pad=-0.8)  # 设置x轴标题与x轴之间的距离\n",
        "plt.tick_params(axis='y', direction='out', length=3, labelsize=15)\n",
        "plt.ylabel('Fct(s)', fontsize=25)\n",
        "\n",
        "# 在整个图形周围添加边框\n",
        "plt.gca().add_patch(plt.Rectangle((-0.5, plt.gca().get_ylim()[0]), len(df.columns) + 1,\n",
        "                                  plt.gca().get_ylim()[1] - plt.gca().get_ylim()[0],\n",
        "                                  fill=None, edgecolor='black', linewidth=1.2))\n",
        "\n",
        "# 显示没有网格线和标题的图形\n",
        "plt.grid(False)\n",
        "plt.tight_layout()\n",
        "\n",
        "plt.savefig('a2a.png', dpi=1000)\n",
        "plt.show()"
      ],
      "metadata": {
        "id": "Za0D7Encd-UE"
      },
      "execution_count": null,
      "outputs": []
    },
    {
      "cell_type": "markdown",
      "source": [
        "## CDF图"
      ],
      "metadata": {
        "id": "H1EnDb0-lvzl"
      }
    },
    {
      "cell_type": "code",
      "source": [
        "import matplotlib.pyplot as plt\n",
        "import pandas as pd\n",
        "import numpy as np\n",
        "\n",
        "# File paths\n",
        "files = [\n",
        "    \"/content/Simulated Annealing.txt\",\n",
        "    \"/content/Genetic Algorithm.txt\",\n",
        "    \"/content/Particle Swarm Optimization.txt\",\n",
        "    \"/content/AUCbanditmutation.txt\",\n",
        "    \"/content/PSO_GA_AUC.txt\",\n",
        "    \"/content/DCQCN_origin.txt\",\n",
        "    \"/content/HPCC.txt\"\n",
        "]\n",
        "\n",
        "# Define colors for the plots\n",
        "colors = ['b', 'g', 'r', 'c', 'm', 'y', 'k']\n",
        "\n",
        "# Read the files and extract the second to last column values\n",
        "new_data = {}\n",
        "for file in files:\n",
        "    df = pd.read_csv(file, sep=\"\\s+\", header=None)\n",
        "    new_data[file.split(\"/\")[-1].split(\".\")[0]] = df.iloc[:, -2].tolist()\n",
        "\n",
        "# Plot the CDF with adjusted settings\n",
        "plt.figure(figsize=(12, 8))\n",
        "for idx, (key, values) in enumerate(new_data.items()):\n",
        "    # Adjusting the x-axis values by dividing by 1,000,000\n",
        "    sorted_data = np.sort(np.array(values) / 1_000_000)\n",
        "    yvals = np.arange(len(sorted_data)) / float(len(sorted_data))\n",
        "    plt.plot(sorted_data, yvals, color=colors[idx], label=key, linewidth=3)\n",
        "\n",
        "# Adjust labels, tick size, legend size, and remove the grid\n",
        "plt.xlabel(\"FCT (s)\", fontsize=12*2)  # Adjusting the x-axis label\n",
        "plt.ylabel(\"CDF\", fontsize=12*2)\n",
        "plt.legend(loc=\"lower right\", fontsize=13*2)  # Adjusting the font size of the legend\n",
        "plt.ylim(0.98, 1.0)\n",
        "plt.xticks(fontsize=10*2)\n",
        "plt.yticks(np.linspace(0.98, 1.0, 5), fontsize=10*2)\n",
        "plt.tight_layout()\n",
        "plt.grid(False)  # Removing the grid\n",
        "\n",
        "\n",
        "\n",
        "\n",
        "plt.savefig('3.png', dpi=1000)\n",
        "\n",
        "plt.show()"
      ],
      "metadata": {
        "id": "GMs3d0gXlug0"
      },
      "execution_count": null,
      "outputs": []
    },
    {
      "cell_type": "markdown",
      "source": [
        "## 柱形图 小图 r语言\n",
        "\n"
      ],
      "metadata": {
        "id": "Rk9YwSEHmIDh"
      }
    },
    {
      "cell_type": "code",
      "source": [
        "# Install the ggplot2 package if not already installed\n",
        "if (!requireNamespace(\"ggplot2\", quietly = TRUE)) {\n",
        "  install.packages(\"ggplot2\")\n",
        "}\n",
        "\n",
        "# Load the ggplot2 package\n",
        "library(ggplot2)\n",
        "\n",
        "# Create a data frame\n",
        "file_names <- c('SA', 'AUC', 'DCQCN', 'HPCC')\n",
        "mean_values <- c(18.73, 18.73, 19.67, 21.01)\n",
        "\n",
        "# Convert file_names to a factor with the specified level order\n",
        "file_names <- factor(file_names, levels = c('SA', 'AUC', 'DCQCN', 'HPCC'))\n",
        "\n",
        "data <- data.frame(file_names, mean_values)\n",
        "\n",
        "# Plot the bar graph\n",
        "options(repr.plot.width=5, repr.plot.height=6)\n",
        "p <- ggplot(data, aes(x=file_names, y=mean_values, fill=file_names)) +\n",
        "  geom_bar(stat='identity', show.legend=FALSE, width=0.4) +\n",
        "  labs(x=NULL, y='Avg Fct(s)') +\n",
        "  theme_minimal() +\n",
        "  theme(axis.text.x = element_text(angle = 45, hjust = 1),\n",
        "        panel.border = element_rect(colour = \"black\", fill=NA, size=1),\n",
        "        panel.grid = element_blank(),\n",
        "        plot.title = element_text(hjust = 0.5, size = 24)) +  # Adjust title properties\n",
        "  theme(axis.text.x = element_text(size = 24),\n",
        "        axis.text.y = element_text(size = 20),\n",
        "        axis.title.y = element_text(size = 24),\n",
        "        axis.ticks.y = element_line(size = 2),\n",
        "        axis.ticks.length = unit(0.1, \"cm\")) +\n",
        "  coord_cartesian(ylim=c(15, 25))  # Set the visual range of y-axis from 35 to 45\n",
        "\n",
        "# Add a title to the plot\n",
        "\n",
        "\n",
        "# Display the plot\n",
        "print(p)\n"
      ],
      "metadata": {
        "id": "OphMSstnmKB8"
      },
      "execution_count": null,
      "outputs": []
    }
  ]
}