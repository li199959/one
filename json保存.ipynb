{
  "nbformat": 4,
  "nbformat_minor": 0,
  "metadata": {
    "colab": {
      "provenance": [],
      "authorship_tag": "ABX9TyPzdiP4pjL5g2l8Zb+m67Y4",
      "include_colab_link": true
    },
    "kernelspec": {
      "name": "python3",
      "display_name": "Python 3"
    },
    "language_info": {
      "name": "python"
    }
  },
  "cells": [
    {
      "cell_type": "markdown",
      "metadata": {
        "id": "view-in-github",
        "colab_type": "text"
      },
      "source": [
        "<a href=\"https://colab.research.google.com/github/li199959/one/blob/main/json%E4%BF%9D%E5%AD%98.ipynb\" target=\"_parent\"><img src=\"https://colab.research.google.com/assets/colab-badge.svg\" alt=\"Open In Colab\"/></a>"
      ]
    },
    {
      "cell_type": "code",
      "execution_count": 1,
      "metadata": {
        "colab": {
          "base_uri": "https://localhost:8080/"
        },
        "id": "X5E7zFXXEdNJ",
        "outputId": "a767f6c9-291f-4379-86e6-6de225e1f820"
      },
      "outputs": [
        {
          "output_type": "stream",
          "name": "stdout",
          "text": [
            "JSON file has been saved to formatted_log_entries.json\n"
          ]
        }
      ],
      "source": [
        "import pandas as pd\n",
        "import json\n",
        "\n",
        "# 替换为您的CSV文件路径\n",
        "csv_file_path = '/content/1.csv'\n",
        "\n",
        "# 读取CSV文件\n",
        "df = pd.read_csv(csv_file_path)\n",
        "\n",
        "# 检查是否存在 'log' 和 'label' 列\n",
        "if 'log' not in df.columns or 'label' not in df.columns:\n",
        "    raise ValueError(\"CSV文件必须包含 'log' 和 'label' 列。\")\n",
        "\n",
        "# 初始化一个列表来存储格式化的条目\n",
        "formatted_entries = []\n",
        "\n",
        "# 按照指示格式化条目\n",
        "for _, row in df.iterrows():\n",
        "    entry = {\n",
        "        \"instruction\": \"Please read and analyze the following log entry carefully. You need to determine whether there are any anomalous behaviors or errors indicated in the entry, and provide your judgment.\",\n",
        "        \"Log Content\": row['log'],\n",
        "        \"Judgment Result\": row['label']\n",
        "    }\n",
        "    formatted_entries.append(entry)\n",
        "\n",
        "# 定义JSON文件的保存路径\n",
        "json_file_path = 'formatted_log_entries.json'\n",
        "\n",
        "# 将格式化的条目保存为JSON文件\n",
        "with open(json_file_path, 'w') as f:\n",
        "    json.dump(formatted_entries, f)\n",
        "\n",
        "# 打印JSON文件的路径\n",
        "print(f'JSON file has been saved to {json_file_path}')\n"
      ]
    },
    {
      "cell_type": "code",
      "source": [
        "import pandas as pd\n",
        "import json\n",
        "\n",
        "# 替换为您的CSV文件路径\n",
        "csv_file_path = '/content/1.csv'\n",
        "\n",
        "# 读取CSV文件\n",
        "df = pd.read_csv(csv_file_path)\n",
        "\n",
        "# 检查是否存在 'log' 和 'label' 列\n",
        "if 'log' not in df.columns or 'label' not in df.columns:\n",
        "    raise ValueError(\"CSV文件必须包含 'log' 和 'label' 列。\")\n",
        "\n",
        "# 定义JSON文件的保存路径\n",
        "json_file_path = 'formatted_log_entries.jsonl'  # 注意，我们使用.jsonl作为文件扩展名，表示这是一个JSON Lines文件。\n",
        "\n",
        "# 打开文件并为每条日志条目写入一行\n",
        "with open(json_file_path, 'w') as f:\n",
        "    for _, row in df.iterrows():\n",
        "        entry = {\n",
        "            \"instruction\": \"Please read and analyze the following log entry carefully. You need to determine whether there are any anomalous behaviors or errors indicated in the entry, and provide your judgment.\",\n",
        "            \"Log Content\": row['log'],\n",
        "            \"Judgment Result\": row['label']\n",
        "        }\n",
        "        # 将字典转换为JSON字符串，并写入新的一行\n",
        "        f.write(json.dumps(entry) + '\\n')\n",
        "\n",
        "# 打印JSON文件的路径\n",
        "print(f'JSON Lines file has been saved to {json_file_path}')\n"
      ],
      "metadata": {
        "colab": {
          "base_uri": "https://localhost:8080/"
        },
        "id": "Zj8g6KE9EyNk",
        "outputId": "806e8c99-aeae-4471-ce2d-9083ab8655bc"
      },
      "execution_count": 2,
      "outputs": [
        {
          "output_type": "stream",
          "name": "stdout",
          "text": [
            "JSON Lines file has been saved to formatted_log_entries.jsonl\n"
          ]
        }
      ]
    },
    {
      "cell_type": "code",
      "source": [],
      "metadata": {
        "id": "JmiUhHVIFYhR"
      },
      "execution_count": null,
      "outputs": []
    }
  ]
}